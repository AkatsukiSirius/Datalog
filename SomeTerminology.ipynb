{
 "cells": [
  {
   "cell_type": "code",
   "execution_count": 2,
   "metadata": {
    "collapsed": false
   },
   "outputs": [],
   "source": [
    "import pyDatalog"
   ]
  },
  {
   "cell_type": "markdown",
   "metadata": {
    "collapsed": true
   },
   "source": [
    "# Logic Programming"
   ]
  },
  {
   "cell_type": "markdown",
   "metadata": {},
   "source": [
    "# 1. Fact, Rule\n",
    "\n",
    "# 2. Knowledge\n",
    "\n",
    "# 3. Variable, Constant\n",
    "\n",
    "# 4. Horn Clause"
   ]
  },
  {
   "cell_type": "markdown",
   "metadata": {},
   "source": [
    "# 5. Literal\n",
    "\n",
    "# 6. Predicate\n",
    "\n",
    "# 7. Term\n",
    "\n",
    "# 8. Same Arity"
   ]
  },
  {
   "cell_type": "markdown",
   "metadata": {},
   "source": [
    "# 9. Ground\n",
    "\n",
    "# 10. Safety Conditions\n",
    "\n",
    "# 11. Extensional Database\n",
    "\n",
    "## Ground Facts, Set E\n",
    "\n",
    "# 12. Intensional Database\n",
    "\n",
    "## Datalog Programs, Set P\n",
    "\n",
    "### P: A mapping from database states to result states\n",
    "\n",
    "### Database states: EDB - Facts\n",
    "\n",
    "### Result states: IDB - Facts"
   ]
  },
  {
   "cell_type": "markdown",
   "metadata": {},
   "source": [
    "# 13. EDB- Predicate\n",
    "\n",
    "# 14. IDB - Predicate\n",
    "\n",
    "# 15. EDB - Relation\n",
    "\n",
    "# 16. IDB - Relation"
   ]
  },
  {
   "cell_type": "markdown",
   "metadata": {},
   "source": [
    "# 17. EDB - Fact\n",
    "\n",
    "# 18. IDB - Fact"
   ]
  },
  {
   "cell_type": "markdown",
   "metadata": {},
   "source": [
    "# 19. Datalog Fact\n",
    "\n",
    "# 20. Datalog Rule\n",
    "\n",
    "# 21. Datalog Clauses Set, S\n",
    "\n",
    "# 22. [Atomic Formula](https://en.wikipedia.org/wiki/Atomic_formula)"
   ]
  },
  {
   "cell_type": "markdown",
   "metadata": {},
   "source": [
    "# 23. All Formuals C*\n",
    "\n",
    "\n",
    "# 24. Herbrand Base\n",
    "\n",
    "## Set of all facts that can be expressed in Datalog Language\n",
    "\n",
    "## All literals of the form $P(c_1,...,c_k), c_i \\text{ are constants}$"
   ]
  },
  {
   "cell_type": "markdown",
   "metadata": {},
   "source": [
    "# 25. EHB, \n",
    "\n",
    "# 26. IHB\n",
    "\n",
    "# 27. Datalog Program, Mapping EHB -> IHB"
   ]
  },
  {
   "cell_type": "markdown",
   "metadata": {},
   "source": [
    "# 28. Subsumes\n",
    "\n",
    "# 29. Goal\n",
    "\n",
    "# 30. Interpretation"
   ]
  },
  {
   "cell_type": "markdown",
   "metadata": {},
   "source": [
    "# 31. Satisfy\n",
    "\n",
    "## A Clause is true under a given interpretation"
   ]
  },
  {
   "cell_type": "markdown",
   "metadata": {},
   "source": [
    "# 32. Follow\n",
    "\n",
    "## Fact follows a set of clauses\n",
    "\n",
    "# 33. Herbrand Interpretations\n",
    "\n",
    "\n",
    "# 34. Herbrand Model\n",
    "\n",
    "## A H Interpretation which satifies a clause C (a set of clauses S) is called a H Model for C (or S)"
   ]
  },
  {
   "cell_type": "code",
   "execution_count": null,
   "metadata": {
    "collapsed": true
   },
   "outputs": [],
   "source": []
  }
 ],
 "metadata": {
  "anaconda-cloud": {},
  "kernelspec": {
   "display_name": "Python [default]",
   "language": "python",
   "name": "python3"
  },
  "language_info": {
   "codemirror_mode": {
    "name": "ipython",
    "version": 3
   },
   "file_extension": ".py",
   "mimetype": "text/x-python",
   "name": "python",
   "nbconvert_exporter": "python",
   "pygments_lexer": "ipython3",
   "version": "3.5.2"
  }
 },
 "nbformat": 4,
 "nbformat_minor": 1
}
