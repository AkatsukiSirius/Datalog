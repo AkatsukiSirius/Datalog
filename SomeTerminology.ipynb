{
 "cells": [
  {
   "cell_type": "code",
   "execution_count": 2,
   "metadata": {
    "collapsed": true
   },
   "outputs": [],
   "source": [
    "import pyDatalog"
   ]
  },
  {
   "cell_type": "markdown",
   "metadata": {
    "collapsed": true
   },
   "source": [
    "# Logic Programming"
   ]
  },
  {
   "cell_type": "markdown",
   "metadata": {},
   "source": [
    "# 1. Fact, Rule -> Knowledge\n",
    "\n",
    "## 1) Fact: par(naruto, minato), combination of Predicate and Names\n",
    "\n",
    "### Clause only has head\n",
    "\n",
    "## 2) Rule: par(child, parent), combination of Predicate - Variables literals (Horn Clause)\n",
    "\n",
    "### Clause with none empty body\n",
    "\n",
    "# 2. Relation\n",
    "## 1) Defined by rule\n",
    "## 2) Expressed by fact"
   ]
  },
  {
   "cell_type": "markdown",
   "metadata": {},
   "source": [
    "# 3. Variable, Constant"
   ]
  },
  {
   "cell_type": "markdown",
   "metadata": {},
   "source": [
    "# 4. Horn Clause\n",
    "\n",
    "## Composed by literals, head:- body"
   ]
  },
  {
   "cell_type": "markdown",
   "metadata": {},
   "source": [
    "# 5. Literal\n",
    "## In the form of predicate(term)\n",
    "\n",
    "# 6. Predicate\n",
    "## Ex. par\n",
    "\n",
    "# 7. Term V.S. Formula -> Ground(no variable)\n",
    "\n",
    "## Term\n",
    "\n",
    "### 1) constant\n",
    "\n",
    "### 2) variable\n",
    "\n",
    "### 3) function, if *f* is a function symbol of arity m and $t_1, ... t_m$ are terms, then $f(t_1,...,t_m)$ is a term\n",
    "\n",
    "## Formula\n",
    "\n",
    "### 1) predicate, if *p* is a function symbol of arity m and $t_1, ... t_n$ are terms, then $f(t_1,...,t_n)$ is a formula (atom)\n",
    "\n",
    "### 2) if F and G are formulars, then $\\neg F, (F \\land G), (F\\lor G),(F\\rightarrow G), and\\space (F\\leftrightarrow G)$\n",
    "\n",
    "### 3) if F is a formula and X is a variable, then $\\exists XF$ and $\\forall XF$ are formulas.\n",
    "\n",
    "# 8. Arity\n",
    "## Number of different predicates a literal has\n"
   ]
  },
  {
   "cell_type": "markdown",
   "metadata": {},
   "source": [
    "# 9. Ground\n",
    "## Literal/Fact/Rule/Clause with no variables\n",
    "\n",
    "# 10. Safety Conditions\n",
    "## 1) Each fact of P is ground\n",
    "## 2) For P, the variable in head, must also in body\n",
    "\n",
    "# 11. Extensional Database\n",
    "## Ground Facts, Set E\n",
    "## a collection of *base relations*\n"
   ]
  },
  {
   "cell_type": "markdown",
   "metadata": {},
   "source": [
    "# 12. Intensional Database\n",
    "\n",
    "## A collection of *views*, defining virtual relations in terms of *base relations*\n",
    "\n",
    "## Datalog Programs, Set P\n",
    "\n",
    "### 1) A datalog program: \n",
    "\n",
    "- A mapping from database states(collected from EDB facts) to result states(collected from IDB results), \n",
    "\n",
    "- A query against EDB\n",
    "\n",
    "- A mapping EHB -> IHB\n",
    "\n",
    "### 2) Database states: EDB - Facts\n",
    "\n",
    "### 3) Result states: IDB - Facts"
   ]
  },
  {
   "cell_type": "markdown",
   "metadata": {},
   "source": [
    "# 13. EDB- Predicate\n",
    "## 1) Predicates in EDB, and \n",
    "## 2) May in P's(clause of P) body, not in head\n",
    "\n",
    "# 14. IDB - Predicate\n",
    "## Predicates only in P, not in EDB\n",
    "\n",
    "# 15. IDB - Relation\n",
    "## 1) Relation defined by P and EDB, or *derived relation*\n",
    "## 2) Not stored explicitly\n",
    "## 3) Correspond to relational *views*\n"
   ]
  },
  {
   "cell_type": "markdown",
   "metadata": {},
   "source": [
    "# 16. Datalog Compiler/Interpreter\n",
    "## Materialize the relational *views*"
   ]
  },
  {
   "cell_type": "markdown",
   "metadata": {},
   "source": [
    "# 17. EDB - Fact\n",
    "## Generate Database states\n",
    "\n",
    "# 18. IDB - Fact\n",
    "## Generate Result states"
   ]
  },
  {
   "cell_type": "markdown",
   "metadata": {},
   "source": [
    "# 19. Datalog Fact\n",
    "## Each can be identified with an atomic formular F* of FOL\n",
    "\n",
    "\n",
    "# 20. Datalog Rule\n",
    "## Each can represent a FOl formular R*\n",
    "\n",
    "# 21. Datalog Clauses Set, S\n",
    "## 1) C, datalog clauses\n",
    "## 2) S, set of datalog clauses\n",
    "\n",
    "\n",
    "# 22. [Atomic Formula](https://en.wikipedia.org/wiki/Atomic_formula)"
   ]
  },
  {
   "cell_type": "markdown",
   "metadata": {},
   "source": [
    "# 23. All Formuals C*\n",
    "\n",
    "\n",
    "# 24. HB(Herbrand Base, facts)\n",
    "\n",
    "## 1) Set of all facts that can be expressed in Datalog Language\n",
    "\n",
    "## 2) All literals of the form $P(c_1,...,c_k), c_i \\text{ are constants}$"
   ]
  },
  {
   "cell_type": "markdown",
   "metadata": {},
   "source": [
    "# 25. EHB\n",
    "## Set of all literals of HB produced from EDB-predicates\n",
    "\n",
    "# 26. IHB\n",
    "## Set of all literals of HB producted from IDB-predicates\n",
    "\n",
    "# 27. Datalog Program, Mapping EHB -> IHB"
   ]
  },
  {
   "cell_type": "markdown",
   "metadata": {},
   "source": [
    "# 28. Subsumes\n",
    "\n",
    "# 29. Goal\n",
    "\n",
    "## Conjunction of Literals\n",
    "\n",
    "# 30. Interpretation\n",
    "## Same Horn Clause "
   ]
  },
  {
   "cell_type": "markdown",
   "metadata": {},
   "source": [
    "# 31. Satisfy\n",
    "\n",
    "## A Clause is true under a given interpretation, Interpretation satisfies C"
   ]
  },
  {
   "cell_type": "markdown",
   "metadata": {},
   "source": [
    "# 32. Follow\n",
    "\n",
    "## 1) Fact follows a set of clauses\n",
    "\n",
    "## 2) Clause Set models Fact\n",
    "\n",
    "## $S \\models F$\n",
    "\n",
    "# 33. Herbrand Interpretations\n",
    "## 1) Only depends on predicate symbol, one predicate symbol only has one meaning\n",
    "## 2) Indentified by $\\zeta$, a subset of HB"
   ]
  },
  {
   "cell_type": "markdown",
   "metadata": {
    "collapsed": true
   },
   "source": [
    "# 34. Herbrand Model\n",
    "\n",
    "## A H Interpretation which satifies a clause C (a set of clauses S) is called a H Model for C (or S)"
   ]
  },
  {
   "cell_type": "markdown",
   "metadata": {},
   "source": [
    "# 35. cons(S)\n",
    "## 1) A set, consequence of all facts in Datalog's fact Set, S\n",
    "\n",
    "## 2) Least Herbrand Model of S"
   ]
  },
  {
   "cell_type": "markdown",
   "metadata": {
    "collapsed": true
   },
   "source": [
    "# 36. Model intersection property"
   ]
  },
  {
   "cell_type": "markdown",
   "metadata": {},
   "source": [
    "# 37. Definite Horn Clauses"
   ]
  },
  {
   "cell_type": "markdown",
   "metadata": {},
   "source": [
    "# 38. Least Herbrand Model"
   ]
  },
  {
   "cell_type": "markdown",
   "metadata": {},
   "source": [
    "# 39. Proof Theory of Datalog"
   ]
  },
  {
   "cell_type": "markdown",
   "metadata": {},
   "source": [
    "# 40. Elementary Production Principle"
   ]
  },
  {
   "cell_type": "markdown",
   "metadata": {},
   "source": [
    "# 41. Soundness and Completeness Theorem"
   ]
  },
  {
   "cell_type": "markdown",
   "metadata": {},
   "source": [
    "# 42. Unification"
   ]
  },
  {
   "cell_type": "markdown",
   "metadata": {},
   "source": [
    "# 43. Bottom Up Evaluation (Forward Chaining)"
   ]
  },
  {
   "cell_type": "markdown",
   "metadata": {},
   "source": [
    "# 44. Fixpoint Characterization of Cons(S)"
   ]
  },
  {
   "cell_type": "markdown",
   "metadata": {},
   "source": [
    "# 45. Least Herbrand model Cons(S)  -> Least Fixpoint"
   ]
  },
  {
   "cell_type": "markdown",
   "metadata": {},
   "source": [
    "# 46. Top Down Approach (Query-Subquery approach)"
   ]
  },
  {
   "cell_type": "markdown",
   "metadata": {},
   "source": [
    "# 47. Gauss-Seidel Method"
   ]
  },
  {
   "cell_type": "markdown",
   "metadata": {},
   "source": [
    "# 48. Semi-Naive approach\n",
    "\n",
    "## Improves a bottom-up computation of linear rules"
   ]
  },
  {
   "cell_type": "markdown",
   "metadata": {},
   "source": [
    "# 49. Magic Sets"
   ]
  },
  {
   "cell_type": "markdown",
   "metadata": {},
   "source": [
    "# 50. Counting"
   ]
  },
  {
   "cell_type": "markdown",
   "metadata": {},
   "source": [
    "# 51. The Method of Henschen and Naqvi"
   ]
  },
  {
   "cell_type": "code",
   "execution_count": null,
   "metadata": {
    "collapsed": true
   },
   "outputs": [],
   "source": []
  }
 ],
 "metadata": {
  "anaconda-cloud": {},
  "kernelspec": {
   "display_name": "Python [default]",
   "language": "python",
   "name": "python3"
  },
  "language_info": {
   "codemirror_mode": {
    "name": "ipython",
    "version": 3
   },
   "file_extension": ".py",
   "mimetype": "text/x-python",
   "name": "python",
   "nbconvert_exporter": "python",
   "pygments_lexer": "ipython3",
   "version": "3.5.2"
  }
 },
 "nbformat": 4,
 "nbformat_minor": 1
}
