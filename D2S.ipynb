{
 "cells": [
  {
   "cell_type": "markdown",
   "metadata": {},
   "source": [
    "# 1. Assumptions"
   ]
  },
  {
   "cell_type": "code",
   "execution_count": 1,
   "metadata": {},
   "outputs": [],
   "source": [
    "tokens = ['.', ':- ', ', ']"
   ]
  },
  {
   "cell_type": "markdown",
   "metadata": {},
   "source": [
    "|Token Type|Description|Examples|\n",
    "|:-|:-|:-|\n",
    "|COMMA|The ',' character|,|\n",
    "|PERIOD|The '.' character|.|\n",
    "|Q_MARK|The '?' character|?|\n",
    "|LEFT_PAREN|The '(' character|(|\n",
    "|RIGHT_PAREN|The ')' character|)|\n",
    "|COLON|The ':' character|\t:|\n",
    "|COLON_DASH|The string “:-”|:-|\n",
    "|MULTIPLY|The '*' character|*|\n",
    "|ADD|The '+' character|+|\n",
    "|SCHEMES|The string “Schemes”|Schemes|\n",
    "|FACTS|The string “Facts”|Facts|\n",
    "|RULES|The string “Rules”|Rules|\n",
    "|QUERIES|The string “Queries”|Queries|"
   ]
  },
  {
   "cell_type": "code",
   "execution_count": 1,
   "metadata": {},
   "outputs": [],
   "source": [
    "def getClauses(datalog_query):\n",
    "    '''\n",
    "    Description: Seperate each clause by character '.'\n",
    "    type string: datalog_query\n",
    "    rtype list\n",
    "    '''\n",
    "    return [item for item in datalog_query.split('.') if item != '']"
   ]
  },
  {
   "cell_type": "code",
   "execution_count": 2,
   "metadata": {},
   "outputs": [],
   "source": [
    "def seperateHeadBody(clause):\n",
    "    '''\n",
    "    Description: get head and body for each clause\n",
    "    type string: clauses\n",
    "    rtype list\n",
    "    '''\n",
    "    head = clause.split(':-')[0]\n",
    "    body = clause.split(':-')[1]\n",
    "    return head,body"
   ]
  },
  {
   "cell_type": "code",
   "execution_count": 3,
   "metadata": {},
   "outputs": [],
   "source": [
    "def getTermsInParens(a):\n",
    "    '''\n",
    "    Description: get each term in parentheses\n",
    "    type string: a\n",
    "    rtype list: results\n",
    "    '''\n",
    "    results = []\n",
    "    if a.find('(') != -1 and a.find(')') != -1:\n",
    "        terms = a[a.find(\"(\")+1:a.find(\")\")].split(',')\n",
    "        for term in terms:\n",
    "            results.append(term)\n",
    "    return results"
   ]
  },
  {
   "cell_type": "markdown",
   "metadata": {},
   "source": [
    "def getColsFromHead(head):\n",
    "    cols = getTermsInParens(head)\n",
    "    return cols"
   ]
  },
  {
   "cell_type": "code",
   "execution_count": 4,
   "metadata": {},
   "outputs": [],
   "source": [
    "def getPredPerTerm(term):\n",
    "    predicate = ''\n",
    "    if term.find('(') != -1 and term.find(')') != -1:\n",
    "        predicate = term.split('(')[0]\n",
    "    return predicate"
   ]
  },
  {
   "cell_type": "markdown",
   "metadata": {},
   "source": [
    "def getTabsPerBody(body):\n",
    "    tabs = []\n",
    "    bodyLiterals = body.split(', ')\n",
    "    for bodyLiteral in bodyLiterals:\n",
    "        if bodyLiteral.find('(') != -1 and bodyLiteral.find(')') != -1:\n",
    "            predicate = bodyLiteral.split('(')[0]\n",
    "            tabs.append(predicate)\n",
    "    return tabs"
   ]
  },
  {
   "cell_type": "code",
   "execution_count": 5,
   "metadata": {},
   "outputs": [],
   "source": [
    "class Node(object):\n",
    "    def __init__(self, data):\n",
    "        self.data = data\n",
    "        self.children = []\n",
    "\n",
    "    def add_child(self, obj):\n",
    "        self.children.append(obj)"
   ]
  },
  {
   "cell_type": "code",
   "execution_count": 6,
   "metadata": {},
   "outputs": [],
   "source": [
    "def parseDatalog2Tree(clauses):\n",
    "    '''\n",
    "    type list[string]: clauses\n",
    "    rtype Node: n\n",
    "    '''\n",
    "    n = Node(seperateHeadBody(clauses[0])[0])\n",
    "    for literal in seperateHeadBody(clauses[0])[1].split(', '):\n",
    "        n.add_child(literal)\n",
    "    return n"
   ]
  },
  {
   "cell_type": "code",
   "execution_count": 7,
   "metadata": {},
   "outputs": [],
   "source": [
    "def translateDatalog2Sql(n):\n",
    "    '''\n",
    "    type Node: n\n",
    "    rtype sqlQuery: string\n",
    "    '''\n",
    "    sqlQuery = ''\n",
    "    sqlQueryFrom = 'From '\n",
    "    sqlQueryWhere = 'Where '\n",
    "    sqlQuerySelect = 'Select '\n",
    "    duplicateTerms = {}\n",
    "    head = getPredPerTerm(n.data)\n",
    "    sqlQueryView = 'Create View ' + head + ' as('\n",
    "    headTerms = getTermsInParens(n.data)\n",
    "    colNums = len(headTerms)\n",
    "    i = 1\n",
    "    for children in n.children:\n",
    "        tab = getPredPerTerm(children)\n",
    "        sqlQueryFrom += tab + ', '\n",
    "        terms = getTermsInParens(children)\n",
    "        for term in terms:\n",
    "            termCol = tab + '.' + term\n",
    "            if term not in duplicateTerms:\n",
    "                duplicateTerms[term] = termCol\n",
    "            else:\n",
    "                sqlQueryWhere += duplicateTerms[term] + \"=\" + termCol + \", \"\n",
    "            if term in headTerms and i <= 2:\n",
    "                sqlQuerySelect += termCol + \", \"\n",
    "                i += 1\n",
    "\n",
    "    sqlQuery += sqlQueryView + \"\\n\" + sqlQueryFrom.strip(', ') + \"\\n\" + sqlQueryWhere.strip(', ') + \"\\n\" + sqlQuerySelect.strip(', ') + ')'\n",
    "    return sqlQuery\n"
   ]
  },
  {
   "cell_type": "code",
   "execution_count": 8,
   "metadata": {},
   "outputs": [],
   "source": []
  },
  {
   "cell_type": "code",
   "execution_count": 9,
   "metadata": {},
   "outputs": [],
   "source": [
    "clauses = getClauses(inp)"
   ]
  },
  {
   "cell_type": "code",
   "execution_count": 10,
   "metadata": {},
   "outputs": [],
   "source": [
    "n = parseDatalog2Tree(clauses)"
   ]
  },
  {
   "cell_type": "code",
   "execution_count": 11,
   "metadata": {},
   "outputs": [],
   "source": [
    "sqlQuery = translateDatalog2Sql(n)"
   ]
  },
  {
   "cell_type": "code",
   "execution_count": 12,
   "metadata": {},
   "outputs": [
    {
     "name": "stdout",
     "output_type": "stream",
     "text": [
      "Create View r1 as(\n",
      "From fact1, fact2, fact3\n",
      "Where fact1.X=fact2.X, fact2.Y=fact3.Y\n",
      "Select fact1.A, fact3.B)\n"
     ]
    }
   ],
   "source": [
    "print(sqlQuery)"
   ]
  },
  {
   "cell_type": "code",
   "execution_count": null,
   "metadata": {},
   "outputs": [],
   "source": []
  }
 ],
 "metadata": {
  "kernelspec": {
   "display_name": "Python 3",
   "language": "python",
   "name": "python3"
  },
  "language_info": {
   "codemirror_mode": {
    "name": "ipython",
    "version": 3
   },
   "file_extension": ".py",
   "mimetype": "text/x-python",
   "name": "python",
   "nbconvert_exporter": "python",
   "pygments_lexer": "ipython3",
   "version": "3.6.5"
  }
 },
 "nbformat": 4,
 "nbformat_minor": 2
}
