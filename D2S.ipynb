{
 "cells": [
  {
   "cell_type": "markdown",
   "metadata": {},
   "source": [
    "# 1. Assumptions"
   ]
  },
  {
   "cell_type": "code",
   "execution_count": 478,
   "metadata": {},
   "outputs": [],
   "source": [
    "tokens = ['.', ':- ', ', ']"
   ]
  },
  {
   "cell_type": "markdown",
   "metadata": {},
   "source": [
    "|Token Type|Description|Examples|\n",
    "|:-|:-|:-|\n",
    "|COMMA|The ',' character|,|\n",
    "|PERIOD|The '.' character|.|\n",
    "|Q_MARK|The '?' character|?|\n",
    "|LEFT_PAREN|The '(' character|(|\n",
    "|RIGHT_PAREN|The ')' character|)|\n",
    "|COLON|The ':' character|\t:|\n",
    "|COLON_DASH|The string “:-”|:-|\n",
    "|MULTIPLY|The '*' character|*|\n",
    "|ADD|The '+' character|+|\n",
    "|SCHEMES|The string “Schemes”|Schemes|\n",
    "|FACTS|The string “Facts”|Facts|\n",
    "|RULES|The string “Rules”|Rules|\n",
    "|QUERIES|The string “Queries”|Queries|"
   ]
  },
  {
   "cell_type": "code",
   "execution_count": 479,
   "metadata": {},
   "outputs": [],
   "source": [
    "def getClauses(datalog_query):\n",
    "    '''\n",
    "    Description: Seperate each clause by character '.'\n",
    "    type string: datalog_query\n",
    "    rtype list\n",
    "    '''\n",
    "    return [item for item in datalog_query.split('.') if item != '']"
   ]
  },
  {
   "cell_type": "code",
   "execution_count": 480,
   "metadata": {},
   "outputs": [],
   "source": [
    "def seperateHeadBody(clause):\n",
    "    '''\n",
    "    Description: get head and body for each clause\n",
    "    type string: clauses\n",
    "    rtype list\n",
    "    '''\n",
    "    head = clause.split(':-')[0]\n",
    "    body = clause.split(':-')[1]\n",
    "    return head,body"
   ]
  },
  {
   "cell_type": "code",
   "execution_count": 481,
   "metadata": {},
   "outputs": [],
   "source": [
    "def getTermsInParens(a):\n",
    "    '''\n",
    "    Description: get each term in parentheses\n",
    "    type string: a\n",
    "    rtype list: results\n",
    "    '''\n",
    "    results = []\n",
    "    if a.find('(') != -1 and a.find(')') != -1:\n",
    "        terms = a[a.find(\"(\")+1:a.find(\")\")].split(',')\n",
    "        for term in terms:\n",
    "            results.append(term)\n",
    "    return results"
   ]
  },
  {
   "cell_type": "markdown",
   "metadata": {},
   "source": [
    "def getColsFromHead(head):\n",
    "    cols = getTermsInParens(head)\n",
    "    return cols"
   ]
  },
  {
   "cell_type": "code",
   "execution_count": 482,
   "metadata": {},
   "outputs": [],
   "source": [
    "def getPredPerTerm(term):\n",
    "    predicate = ''\n",
    "    if term.find('(') != -1 and term.find(')') != -1:\n",
    "        predicate = term.split('(')[0]\n",
    "    return predicate"
   ]
  },
  {
   "cell_type": "markdown",
   "metadata": {},
   "source": [
    "def getTabsPerBody(body):\n",
    "    tabs = []\n",
    "    bodyLiterals = body.split(', ')\n",
    "    for bodyLiteral in bodyLiterals:\n",
    "        if bodyLiteral.find('(') != -1 and bodyLiteral.find(')') != -1:\n",
    "            predicate = bodyLiteral.split('(')[0]\n",
    "            tabs.append(predicate)\n",
    "    return tabs"
   ]
  },
  {
   "cell_type": "code",
   "execution_count": 483,
   "metadata": {},
   "outputs": [],
   "source": [
    "class Node(object):\n",
    "    def __init__(self, data):\n",
    "        self.data = data\n",
    "        self.children = []\n",
    "\n",
    "    def add_child(self, obj):\n",
    "        self.children.append(obj)"
   ]
  },
  {
   "cell_type": "code",
   "execution_count": 484,
   "metadata": {},
   "outputs": [],
   "source": [
    "def parseDatalog2Tree(clauses):\n",
    "    '''\n",
    "    type list[string]: clauses\n",
    "    rtype Node: n\n",
    "    '''\n",
    "    n = Node(seperateHeadBody(clauses[0])[0])\n",
    "    for literal in seperateHeadBody(clauses[0])[1].split(', '):\n",
    "        n.add_child(literal)\n",
    "    return n"
   ]
  },
  {
   "cell_type": "code",
   "execution_count": 485,
   "metadata": {},
   "outputs": [],
   "source": [
    "def mapFactSchema(factList, inputSchemas):\n",
    "    '''\n",
    "    Description: make a dictionary to contain the fact schama and corresponds fact\n",
    "    type list: factList\n",
    "    type list: inputSchema\n",
    "    '''\n",
    "    results = {}\n",
    "    for fact in factList:\n",
    "        pred = getPredPerTerm(fact)\n",
    "        for schema in inputSchemas:\n",
    "            if schema.find(pred) != -1:\n",
    "                for i in range(len(getTermsInParens(schema))):\n",
    "                    key = pred + \".\" + getTermsInParens(schema)[i]\n",
    "                    if key in results:\n",
    "                        results[key].append(getTermsInParens(fact)[i])\n",
    "                    else:\n",
    "                        results[key] = [getTermsInParens(fact)[i]]\n",
    "    return results"
   ]
  },
  {
   "cell_type": "code",
   "execution_count": 486,
   "metadata": {},
   "outputs": [],
   "source": [
    "def getSchemaDict(inputSchemas):\n",
    "    '''\n",
    "    Description: Create a dictionary for schemas\n",
    "    type list: inputSchemas\n",
    "    rtype dictionary\n",
    "    '''\n",
    "    schemaDict = {}\n",
    "    for schema in inputSchemas:\n",
    "        pred = getPredPerTerm(schema)\n",
    "        if pred in schemaDict:  \n",
    "            schemaDict[pred] += getTermsInParens(schema)\n",
    "        else:\n",
    "            schemaDict[pred] = getTermsInParens(schema)\n",
    "    return schemaDict"
   ]
  },
  {
   "cell_type": "code",
   "execution_count": 497,
   "metadata": {},
   "outputs": [],
   "source": [
    "def translateDatalog2Sql(n, factList, inputSchemas):\n",
    "    '''\n",
    "    type Node: n\n",
    "    type list: inputSchemas\n",
    "    type list: factList\n",
    "    rtype sqlQuery: string\n",
    "    '''\n",
    "    schemaDict = getSchemaDict(inputSchemas)\n",
    "    factSchemaDict = mapFactSchema(factList, inputSchemas)\n",
    "    sqlQuery = ''\n",
    "    sqlQueryFrom = 'From '\n",
    "    sqlQueryWhere = 'Where '\n",
    "    sqlQuerySelect = 'Select '\n",
    "    duplicateTerms = {}\n",
    "    head = getPredPerTerm(n.data)\n",
    "    sqlQueryView = 'Create View ' + head + ' as('\n",
    "    headTerms = getTermsInParens(n.data)\n",
    "    colNums = len(headTerms)\n",
    "    i = 1\n",
    "    for children in n.children:\n",
    "        tab = getPredPerTerm(children)\n",
    "        sqlQueryFrom += tab + ', '\n",
    "        terms = getTermsInParens(children)\n",
    "        # Update where clause\n",
    "        for termPos in range(len(terms)):\n",
    "            termCol = tab + '.' + terms[termPos]\n",
    "            if termCol not in factSchemaDict:\n",
    "                ### Need to edit\n",
    "                sqlQueryWhere += tab + '.' + schemaDict[tab][termPos] + '=' + terms[termPos]  +\" and \"\n",
    "            if terms[termPos] not in duplicateTerms:\n",
    "                duplicateTerms[terms[termPos]] = termCol\n",
    "            else:\n",
    "                sqlQueryWhere += duplicateTerms[terms[termPos]] + \"=\" + termCol + \" and \"\n",
    "        # Update select clause\n",
    "        for term in terms:        \n",
    "            if term in headTerms and i <= 2:\n",
    "                sqlQuerySelect += termCol + \", \"\n",
    "                i += 1\n",
    "\n",
    "    sqlQuery += sqlQueryView + \"\\n\" + sqlQueryFrom.strip(', ') + \"\\n\" + sqlQueryWhere.strip(' and ') + \"\\n\" + sqlQuerySelect.strip(', ') + ')'\n",
    "    return sqlQuery"
   ]
  },
  {
   "cell_type": "code",
   "execution_count": 498,
   "metadata": {},
   "outputs": [],
   "source": [
    "inp = 'r1(a,b):-fact1(x,a), fact2(20,y), fact3(y,b).'"
   ]
  },
  {
   "cell_type": "code",
   "execution_count": 499,
   "metadata": {},
   "outputs": [],
   "source": [
    "clauses = getClauses(inp)"
   ]
  },
  {
   "cell_type": "code",
   "execution_count": 501,
   "metadata": {},
   "outputs": [],
   "source": [
    "factList =['fact1(2,1)','fact1(2,3)','fact1(2,4)','fact2(20,10)','fact2(20,30)','fact2(20,40)', 'fact3(22,21)','fact3(22,23)','fact3(22,24)']"
   ]
  },
  {
   "cell_type": "code",
   "execution_count": 502,
   "metadata": {},
   "outputs": [],
   "source": [
    "inputSchemas = ['fact1(x,a)', 'fact2(a,y)', 'fact3(y,b)']"
   ]
  },
  {
   "cell_type": "code",
   "execution_count": 503,
   "metadata": {},
   "outputs": [],
   "source": [
    "n = parseDatalog2Tree(clauses)"
   ]
  },
  {
   "cell_type": "code",
   "execution_count": 504,
   "metadata": {},
   "outputs": [],
   "source": [
    "sqlQuery = translateDatalog2Sql(n, factList, inputSchemas)"
   ]
  },
  {
   "cell_type": "code",
   "execution_count": 505,
   "metadata": {},
   "outputs": [
    {
     "name": "stdout",
     "output_type": "stream",
     "text": [
      "Create View r1 as(\n",
      "From fact1, fact2, fact3\n",
      "Where fact2.a=20 and fact2.y=fact3.y\n",
      "Select fact1.a, fact3.b)\n"
     ]
    }
   ],
   "source": [
    "print(sqlQuery)"
   ]
  },
  {
   "cell_type": "code",
   "execution_count": null,
   "metadata": {},
   "outputs": [],
   "source": []
  },
  {
   "cell_type": "code",
   "execution_count": null,
   "metadata": {},
   "outputs": [],
   "source": []
  }
 ],
 "metadata": {
  "kernelspec": {
   "display_name": "Python 3",
   "language": "python",
   "name": "python3"
  },
  "language_info": {
   "codemirror_mode": {
    "name": "ipython",
    "version": 3
   },
   "file_extension": ".py",
   "mimetype": "text/x-python",
   "name": "python",
   "nbconvert_exporter": "python",
   "pygments_lexer": "ipython3",
   "version": "3.6.5"
  }
 },
 "nbformat": 4,
 "nbformat_minor": 2
}
