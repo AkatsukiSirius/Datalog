{
 "cells": [
  {
   "cell_type": "markdown",
   "metadata": {},
   "source": [
    "# 0. Table - EDB"
   ]
  },
  {
   "cell_type": "markdown",
   "metadata": {},
   "source": [
    "## Table 1: Product\n",
    "\n",
    "### Col 1: item\n",
    "\n",
    "### Col 2: price"
   ]
  },
  {
   "cell_type": "markdown",
   "metadata": {},
   "source": [
    "## Table 2: Product\n",
    "\n",
    "### Col 1: item\n",
    "\n",
    "### Col 2: country"
   ]
  },
  {
   "cell_type": "code",
   "execution_count": 422,
   "metadata": {},
   "outputs": [],
   "source": [
    "productCol = [\"Product\",\"Price\"]\n",
    "madeinCol = [\"Product\", \"Country\"]"
   ]
  },
  {
   "cell_type": "code",
   "execution_count": 423,
   "metadata": {},
   "outputs": [],
   "source": [
    "tables = [\"madein\", \"price\"]"
   ]
  },
  {
   "cell_type": "code",
   "execution_count": 424,
   "metadata": {},
   "outputs": [],
   "source": [
    "tabCol = {tables[0]:madeinCol, tables[1]:productCol}"
   ]
  },
  {
   "cell_type": "code",
   "execution_count": 425,
   "metadata": {},
   "outputs": [],
   "source": [
    "countries = [\"germany\",\"belgium\",\"uk\",\"china\",\"usa\",\"japan\"]\n",
    "prices = [\"5\",\"6\",\"10\"]"
   ]
  },
  {
   "cell_type": "code",
   "execution_count": 426,
   "metadata": {},
   "outputs": [],
   "source": [
    "consDict = {\"Country\":countries,  \"Price\": prices}"
   ]
  },
  {
   "cell_type": "code",
   "execution_count": 427,
   "metadata": {},
   "outputs": [
    {
     "data": {
      "text/plain": [
       "{'Country': ['germany', 'belgium', 'uk', 'china', 'usa', 'japan'],\n",
       " 'Price': ['5', '6', '10']}"
      ]
     },
     "execution_count": 427,
     "metadata": {},
     "output_type": "execute_result"
    }
   ],
   "source": [
    "consDict"
   ]
  },
  {
   "cell_type": "markdown",
   "metadata": {},
   "source": [
    "# 1. From Datalog to Sql"
   ]
  },
  {
   "cell_type": "markdown",
   "metadata": {},
   "source": [
    "## Datalog Programs Predicates\n",
    "\n",
    "## $p = \\{p_1,p_2,p_3\\}$\n",
    "\n",
    "### $p_1:$ good_product\n",
    "\n",
    "- Made in Germany or Belgium\n",
    "\n",
    "### $p_2:$ bad_product\n",
    "\n",
    "- Not made in Germany, Belgium or UK\n",
    "\n",
    "### $p_3:$ perfect_product\n",
    "\n",
    "- Price < 5 and not a bad product"
   ]
  },
  {
   "cell_type": "markdown",
   "metadata": {},
   "source": [
    "## Datalog Program P"
   ]
  },
  {
   "cell_type": "code",
   "execution_count": 428,
   "metadata": {},
   "outputs": [],
   "source": [
    "datalog_goodProd = \"good_product(Product):-madein(Product,germany).good_product(Product):-madein(Product,belgium).\"\n",
    "\n",
    "datalog_badProd = \"bad_product(Product):-madein(Product,Country), Country!=germany, Country!=belgium, Country!=uk.\"\n",
    "\n",
    "datalog_perfProd = \"perfect_product(Product):-good_product(Product), not bad_product(Product), price(Product,Price), Price<5.\""
   ]
  },
  {
   "cell_type": "code",
   "execution_count": 429,
   "metadata": {},
   "outputs": [
    {
     "data": {
      "text/plain": [
       "'good_product(Product):-madein(Product,germany).good_product(Product):-madein(Product,belgium).'"
      ]
     },
     "execution_count": 429,
     "metadata": {},
     "output_type": "execute_result"
    }
   ],
   "source": [
    "datalog_goodProd"
   ]
  },
  {
   "cell_type": "code",
   "execution_count": 430,
   "metadata": {},
   "outputs": [
    {
     "data": {
      "text/plain": [
       "'bad_product(Product):-madein(Product,Country), Country!=germany, Country!=belgium, Country!=uk.'"
      ]
     },
     "execution_count": 430,
     "metadata": {},
     "output_type": "execute_result"
    }
   ],
   "source": [
    "datalog_badProd"
   ]
  },
  {
   "cell_type": "code",
   "execution_count": 431,
   "metadata": {},
   "outputs": [
    {
     "data": {
      "text/plain": [
       "'perfect_product(Product):-good_product(Product), not bad_product(Product), price(Product,Price), Price<5.'"
      ]
     },
     "execution_count": 431,
     "metadata": {},
     "output_type": "execute_result"
    }
   ],
   "source": [
    "datalog_perfProd"
   ]
  },
  {
   "cell_type": "code",
   "execution_count": 432,
   "metadata": {},
   "outputs": [],
   "source": [
    "import re"
   ]
  },
  {
   "cell_type": "code",
   "execution_count": 433,
   "metadata": {},
   "outputs": [],
   "source": [
    "sep1 = '.'\n",
    "sep2 = ':-'\n",
    "sep3 = ', '\n",
    "cmps = [\"!=\",\">\",\"<\",\"<=\",\">=\",\"==\"]"
   ]
  },
  {
   "cell_type": "code",
   "execution_count": 434,
   "metadata": {},
   "outputs": [
    {
     "data": {
      "text/plain": [
       "'perfect_product(Product):-good_product(Product), not bad_product(Product), price(Product,Price), Price<5.'"
      ]
     },
     "execution_count": 434,
     "metadata": {},
     "output_type": "execute_result"
    }
   ],
   "source": [
    "datalog_goodProd\n",
    "datalog_badProd\n",
    "datalog_perfProd"
   ]
  },
  {
   "cell_type": "code",
   "execution_count": 435,
   "metadata": {},
   "outputs": [],
   "source": [
    "def getClauses(datalog_query):\n",
    "    return [item for item in datalog_query.split(sep1) if item != '']"
   ]
  },
  {
   "cell_type": "code",
   "execution_count": 436,
   "metadata": {},
   "outputs": [],
   "source": [
    "def getHeads(datalog_query):\n",
    "    clauses = getClauses(datalog_query)\n",
    "    return [clause.split(sep2)[0] for clause in clauses]"
   ]
  },
  {
   "cell_type": "code",
   "execution_count": 437,
   "metadata": {},
   "outputs": [],
   "source": [
    "def getAllPredicates(datalog_query):\n",
    "    return [head.split('(')[0] for head in getHeads(datalog_query)]"
   ]
  },
  {
   "cell_type": "code",
   "execution_count": 438,
   "metadata": {},
   "outputs": [],
   "source": [
    "def getVariablesInHeads(datalog_query):\n",
    "    heads = getHeads(datalog_query)\n",
    "    query = []\n",
    "    for head in heads:\n",
    "        query += [q.strip() for q in head[head.find(\"(\")+1:head.find(\")\")].split(',')]\n",
    "    return query"
   ]
  },
  {
   "cell_type": "code",
   "execution_count": 439,
   "metadata": {},
   "outputs": [],
   "source": [
    "def getBodies(datalog_query):\n",
    "    clauses = getClauses(datalog_query)\n",
    "    return [clause.split(sep2)[1] for clause in clauses]"
   ]
  },
  {
   "cell_type": "code",
   "execution_count": 440,
   "metadata": {},
   "outputs": [],
   "source": [
    "def getHBDict(datalog_query):\n",
    "    result = {}\n",
    "    clauses = getClauses(datalog_query)\n",
    "    i = 1\n",
    "    for clause in clauses:\n",
    "        result[\"Clause\"+str(i)] = clause.split(sep2)[0]+sep2+clause.split(sep2)[1]\n",
    "        i += 1\n",
    "    return result"
   ]
  },
  {
   "cell_type": "code",
   "execution_count": 441,
   "metadata": {},
   "outputs": [],
   "source": [
    "def getTotalPredicates(datalog_query):\n",
    "    result = []\n",
    "    for body in getBodies(datalog_query):\n",
    "        for term in body.split(', '):\n",
    "            result.append(term)\n",
    "    for head in getHeads(datalog_query):\n",
    "        result.append(head)\n",
    "    return result"
   ]
  },
  {
   "cell_type": "code",
   "execution_count": 442,
   "metadata": {},
   "outputs": [],
   "source": [
    "def getLiteralHeadDict(datalog_query):\n",
    "    bH = getHBDict(datalog_query)\n",
    "    result = {}\n",
    "    for key in bH.keys():\n",
    "        if len(key.split(sep3))>1:\n",
    "            for term in key.split(sep3):\n",
    "                result[term] = bH[key]\n",
    "        else:\n",
    "            result[key.split(sep3)[0]] = bH[key]\n",
    "    return result"
   ]
  },
  {
   "cell_type": "code",
   "execution_count": 443,
   "metadata": {},
   "outputs": [],
   "source": [
    "def getVariablesInBodies(datalog_query):\n",
    "    query = []\n",
    "    for body in getHBDict(datalog_query).keys():\n",
    "        for term in body.split(', '):\n",
    "            if term.find(\"(\") != -1:\n",
    "                query += [q.strip() for q in term[term.find(\"(\")+1:term.find(\")\")].split(',')]\n",
    "            else:\n",
    "                for cmp in cmps:\n",
    "                    if term.find(cmp) != -1:\n",
    "                        query.append(term.split(cmp)[0])\n",
    "                        query.append(term.split(cmp)[1])\n",
    "    return query"
   ]
  },
  {
   "cell_type": "code",
   "execution_count": 444,
   "metadata": {},
   "outputs": [],
   "source": [
    "def getVariablesInClauses(datalog_query):\n",
    "    query = []\n",
    "    for body in getHBDict(datalog_query).keys():\n",
    "        for term in body.split(', '):\n",
    "            if term.find(\"(\") != -1:\n",
    "                query += [q.strip() for q in term[term.find(\"(\")+1:term.find(\")\")].split(',')]\n",
    "            else:\n",
    "                for cmp in cmps:\n",
    "                    if term.find(cmp) != -1:\n",
    "                        query.append(term.split(cmp)[0])\n",
    "                        query.append(term.split(cmp)[1])\n",
    "    for body in getHBDict(datalog_query).values():\n",
    "        for term in body.split(', '):\n",
    "            if term.find(\"(\") != -1:\n",
    "                query += [q.strip() for q in term[term.find(\"(\")+1:term.find(\")\")].split(',')]\n",
    "            else:\n",
    "                for cmp in cmps:\n",
    "                    if term.find(cmp) != -1:\n",
    "                        query.append(term.split(cmp)[0])\n",
    "                        query.append(term.split(cmp)[1])\n",
    "    return query"
   ]
  },
  {
   "cell_type": "code",
   "execution_count": 445,
   "metadata": {},
   "outputs": [],
   "source": [
    "def getPVDict(datalog_query):\n",
    "    predConsDict = {}\n",
    "    i = 1\n",
    "    for var in getVariablesInClauses(datalog_query):\n",
    "        for ls in consDict.values():\n",
    "            if var in ls:\n",
    "                if var in predConsDict.keys():\n",
    "                    continue\n",
    "                else:\n",
    "                    predConsDict[var] = 'P'+str(i)\n",
    "                    i = i + 1\n",
    "    return predConsDict"
   ]
  },
  {
   "cell_type": "code",
   "execution_count": 446,
   "metadata": {},
   "outputs": [],
   "source": [
    "inp = datalog_goodProd+datalog_badProd+datalog_perfProd"
   ]
  },
  {
   "cell_type": "code",
   "execution_count": 447,
   "metadata": {},
   "outputs": [
    {
     "data": {
      "text/plain": [
       "'good_product(Product):-madein(Product,germany).good_product(Product):-madein(Product,belgium).bad_product(Product):-madein(Product,Country), Country!=germany, Country!=belgium, Country!=uk.perfect_product(Product):-good_product(Product), not bad_product(Product), price(Product,Price), Price<5.'"
      ]
     },
     "execution_count": 447,
     "metadata": {},
     "output_type": "execute_result"
    }
   ],
   "source": [
    "inp"
   ]
  },
  {
   "cell_type": "markdown",
   "metadata": {},
   "source": [
    "## Step 1. Replace Constant with variables and add new Predicates"
   ]
  },
  {
   "cell_type": "code",
   "execution_count": 448,
   "metadata": {},
   "outputs": [],
   "source": [
    "pvDict = getPVDict(inp)"
   ]
  },
  {
   "cell_type": "code",
   "execution_count": 449,
   "metadata": {},
   "outputs": [
    {
     "data": {
      "text/plain": [
       "{'5': 'P4', 'belgium': 'P2', 'germany': 'P1', 'uk': 'P3'}"
      ]
     },
     "execution_count": 449,
     "metadata": {},
     "output_type": "execute_result"
    }
   ],
   "source": [
    "pvDict"
   ]
  },
  {
   "cell_type": "code",
   "execution_count": 450,
   "metadata": {},
   "outputs": [],
   "source": [
    "def newPredicates4Constants(pvDict):\n",
    "    \"\"\"\n",
    "    :type pvDict, predicate-constant pair get in 1st step: dict\n",
    "    :rtype newPredicates: list\n",
    "    \"\"\"\n",
    "    newPredicates = []\n",
    "    for key in pvDict.keys():\n",
    "        newPredicates.append(pvDict[key]+'='+'{('+key+')};')   \n",
    "    return newPredicates"
   ]
  },
  {
   "cell_type": "code",
   "execution_count": 451,
   "metadata": {},
   "outputs": [],
   "source": [
    "newPredicates = newPredicates4Constants(pvDict)"
   ]
  },
  {
   "cell_type": "code",
   "execution_count": 452,
   "metadata": {},
   "outputs": [
    {
     "data": {
      "text/plain": [
       "['P1={(germany)};', 'P2={(belgium)};', 'P3={(uk)};', 'P4={(5)};']"
      ]
     },
     "execution_count": 452,
     "metadata": {},
     "output_type": "execute_result"
    }
   ],
   "source": [
    "newPredicates"
   ]
  },
  {
   "cell_type": "code",
   "execution_count": 453,
   "metadata": {},
   "outputs": [],
   "source": [
    "bH = getHBDict(inp)"
   ]
  },
  {
   "cell_type": "code",
   "execution_count": 454,
   "metadata": {},
   "outputs": [],
   "source": [
    "def replaceConstantInClauses(consDict, bH):\n",
    "    \"\"\"\n",
    "    :type pvDict, predicate-constant pair get in 1st step: dict\n",
    "    :rtype newPredicates: list\n",
    "    \"\"\"\n",
    "    consts = []\n",
    "    for key in consDict.keys():\n",
    "        consts+=consDict[key]\n",
    "    \n",
    "    newDict = {}\n",
    "    for key in bH.keys():\n",
    "        i = 1\n",
    "        clause = bH[key]\n",
    "        for const in consts:     \n",
    "            if clause.find(const) != -1:\n",
    "                variable = \"v\" + str(i)\n",
    "                clause = clause.replace(const,variable)\n",
    "                add = \", \" + pvDict[const] + \"(\" + variable + \")\"\n",
    "                temp = clause + add\n",
    "                i = i + 1\n",
    "        newDict[key] = temp\n",
    "    return newDict"
   ]
  },
  {
   "cell_type": "code",
   "execution_count": 455,
   "metadata": {},
   "outputs": [
    {
     "data": {
      "text/plain": [
       "{'Clause1': 'good_product(Product):-madein(Product,v1), P1(v1)',\n",
       " 'Clause2': 'good_product(Product):-madein(Product,v1), P2(v1)',\n",
       " 'Clause3': 'bad_product(Product):-madein(Product,Country), Country!=v1, Country!=v2, Country!=v3, P3(v3)',\n",
       " 'Clause4': 'perfect_product(Product):-good_product(Product), not bad_product(Product), price(Product,Price), Price<v1, P4(v1)'}"
      ]
     },
     "execution_count": 455,
     "metadata": {},
     "output_type": "execute_result"
    }
   ],
   "source": [
    "newDict "
   ]
  },
  {
   "cell_type": "markdown",
   "metadata": {
    "collapsed": true
   },
   "source": [
    "## Step 2. Replace Equation"
   ]
  },
  {
   "cell_type": "markdown",
   "metadata": {},
   "source": [
    "## Step 3. Combine Multiple-Clause Predicate Definitions"
   ]
  },
  {
   "cell_type": "code",
   "execution_count": 456,
   "metadata": {},
   "outputs": [],
   "source": [
    "def comBineMulCalPreds(pvDict, newDict):\n",
    "    \"\"\"\n",
    "    :type pvDict, predicate-constant pair get in 1st step: dict\n",
    "    :type newDict, clauses filterd after previous steps: dict\n",
    "    :rtype newClause: dict\n",
    "    \"\"\"\n",
    "    newPredStart = len(pvDict)\n",
    "    # Find duplicate predicate\n",
    "    predCount = {}\n",
    "    duplicatePred = []\n",
    "    for key in newDict.keys():\n",
    "        a = newDict[key].split(':')[0]\n",
    "        b = a.split('(')[0]\n",
    "        if b in predCount:\n",
    "            duplicatePred.append(b)\n",
    "            predCount[b] += 1\n",
    "        else:\n",
    "            predCount[b] = 1\n",
    "    \n",
    "    i = len(pvDict) + 1\n",
    "    newPredicate3 = {}\n",
    "    for key in newDict.keys():\n",
    "        a = newDict[key].split(':')[0]\n",
    "        b = a.split('(')[0]\n",
    "        newPredicate3[b] = ''\n",
    "    \n",
    "    for key in newDict.keys():\n",
    "        a = newDict[key].split(':')[0]\n",
    "        b = a.split('(')[0]\n",
    "        if predCount[b] > 1:\n",
    "            newDict[key] = newDict[key].replace(b,'P'+str(i))\n",
    "            newPredicate3[b] += 'P'+str(i)+' logicAnd '\n",
    "            i += 1\n",
    "            \n",
    "    newPredicate3Cleard = {}\n",
    "    for key in newPredicate3.keys():\n",
    "        if newPredicate3[key] != '':\n",
    "            newPredicate3Cleard[key] = newPredicate3[key].strip('logicAnd ')\n",
    "    \n",
    "    return newPredicate3Cleard"
   ]
  },
  {
   "cell_type": "code",
   "execution_count": 457,
   "metadata": {},
   "outputs": [
    {
     "data": {
      "text/plain": [
       "{'Clause1': 'good_product(Product):-madein(Product,v1), P1(v1)',\n",
       " 'Clause2': 'good_product(Product):-madein(Product,v1), P2(v1)',\n",
       " 'Clause3': 'bad_product(Product):-madein(Product,Country), Country!=v1, Country!=v2, Country!=v3, P3(v3)',\n",
       " 'Clause4': 'perfect_product(Product):-good_product(Product), not bad_product(Product), price(Product,Price), Price<v1, P4(v1)'}"
      ]
     },
     "execution_count": 457,
     "metadata": {},
     "output_type": "execute_result"
    }
   ],
   "source": [
    "newDict"
   ]
  },
  {
   "cell_type": "code",
   "execution_count": 458,
   "metadata": {},
   "outputs": [
    {
     "data": {
      "text/plain": [
       "{'5': 'P4', 'belgium': 'P2', 'germany': 'P1', 'uk': 'P3'}"
      ]
     },
     "execution_count": 458,
     "metadata": {},
     "output_type": "execute_result"
    }
   ],
   "source": [
    "pvDict"
   ]
  },
  {
   "cell_type": "code",
   "execution_count": 459,
   "metadata": {},
   "outputs": [],
   "source": [
    "newPredStart = len(pvDict)"
   ]
  },
  {
   "cell_type": "code",
   "execution_count": 460,
   "metadata": {},
   "outputs": [],
   "source": [
    "a = comBineMulCalPreds(pvDict, newDict)"
   ]
  },
  {
   "cell_type": "code",
   "execution_count": 461,
   "metadata": {},
   "outputs": [
    {
     "data": {
      "text/plain": [
       "{'Clause1': 'P5(Product):-madein(Product,v1), P1(v1)',\n",
       " 'Clause2': 'P6(Product):-madein(Product,v1), P2(v1)',\n",
       " 'Clause3': 'bad_product(Product):-madein(Product,Country), Country!=v1, Country!=v2, Country!=v3, P3(v3)',\n",
       " 'Clause4': 'perfect_product(Product):-good_product(Product), not bad_product(Product), price(Product,Price), Price<v1, P4(v1)'}"
      ]
     },
     "execution_count": 461,
     "metadata": {},
     "output_type": "execute_result"
    }
   ],
   "source": [
    "newDict"
   ]
  },
  {
   "cell_type": "code",
   "execution_count": 463,
   "metadata": {},
   "outputs": [
    {
     "data": {
      "text/plain": [
       "['P1={(germany)};', 'P2={(belgium)};', 'P3={(uk)};', 'P4={(5)};']"
      ]
     },
     "execution_count": 463,
     "metadata": {},
     "output_type": "execute_result"
    }
   ],
   "source": [
    "newPredicates"
   ]
  },
  {
   "cell_type": "markdown",
   "metadata": {},
   "source": [
    "## Step 4. Rename variables which appears multiple times in a clauses"
   ]
  },
  {
   "cell_type": "markdown",
   "metadata": {},
   "source": [
    "### Get variables for each clause"
   ]
  },
  {
   "cell_type": "code",
   "execution_count": 818,
   "metadata": {},
   "outputs": [],
   "source": [
    "def renameVariableInClauses(newDict):\n",
    "    results = ''\n",
    "    # Count variables in head\n",
    "    for key in newDict.keys():\n",
    "        head = newDict[key].split(':-')[0]\n",
    "        body = newDict[key].split(':-')[1]\n",
    "        # get each term in body\n",
    "        predicates = body.split(', ')\n",
    "    \n",
    "        bvPreds = [] \n",
    "        bvEqs = []\n",
    "        bvNegPreds = []\n",
    "        for predicate in predicates:\n",
    "            if predicate.find(\"not \") != -1:\n",
    "                bvNegPreds.append(predicate)\n",
    "            elif predicate.find(\"(\") != -1:\n",
    "                bvPreds.append(predicate)\n",
    "            else:\n",
    "                bvEqs.append(predicate)\n",
    "    \n",
    "        # First, deal with the variables in positive predicate\n",
    "        i = 1\n",
    "        btDict = {}\n",
    "        for bvPred in bvPreds:\n",
    "            terms = bvPred[bvPred.find(\"(\")+1:bvPred.find(\")\")].split(',')\n",
    "            terms = [term for term in terms if term != '']\n",
    "            for term in terms:\n",
    "                btDict['x'+str(i)] = term\n",
    "                i += 1\n",
    "        # Generate additional predicate\n",
    "        a = {}\n",
    "        newEq = ''\n",
    "        for item in btDict.items():\n",
    "            if item[1] in a:\n",
    "                newEq += a[item[1]] + '==' + item[0] + ', '\n",
    "            else:\n",
    "                a[item[1]] = item[0]\n",
    "    \n",
    "        newBody = ''\n",
    "        btDict4Mapping = btDict\n",
    "        # use an other variable when same term appears in another prediacate\n",
    "        usedVars = []\n",
    "        for bvPred in bvPreds:\n",
    "            newPred = bvPred\n",
    "            for variable in btDict4Mapping.keys():\n",
    "                if newPred.find(btDict4Mapping[variable]) != -1:\n",
    "                    if btDict4Mapping[variable] not in varCount and variable not in usedVars:\n",
    "                        newPred = newPred.replace(btDict4Mapping[variable],variable)\n",
    "                        usedVars.append(variable)\n",
    "            newBody += newPred +  ', '\n",
    "        newBody = newBody + newEq\n",
    "    \n",
    "        # Second, deal with varibles in Eq\n",
    "        # Create additional variables in pre-defined predicates\n",
    "        \n",
    "        # List Variables in pre-defined predicates\n",
    "        varInIneq = []\n",
    "        for bvEq in bvEqs:\n",
    "            for cmp in cmps:\n",
    "                if bvEq.find(cmp) != -1:\n",
    "                    varInIneq.extend(bvEq.split(cmp))\n",
    "        varInIneq = sorted(list(set(varInIneq)))\n",
    "        newVarFlag = len(btDict)\n",
    "    \n",
    "        # Create dictionaries for new variables\n",
    "        varDict4Ineq = {}\n",
    "        for variable in varInIneq:\n",
    "            if variable not in btDict.values():\n",
    "                varDict4Ineq['x'+str(newVarFlag+1)] = variable\n",
    "                newVarFlag += 1\n",
    "        \n",
    "        btDict = MergeDicts(btDict, varDict4Ineq)\n",
    "        newbvEqs = []\n",
    "        for bvEq in bvEqs:\n",
    "            newbvEq = bvEq\n",
    "            for variable,bt in btDict.items():\n",
    "                if newbvEq.find(bt) != -1:\n",
    "                    newbvEq = newbvEq.replace(bt, variable)\n",
    "            newbvEqs.append(newbvEq)\n",
    "    \n",
    "        for newbvEq in newbvEqs:\n",
    "            newBody += newbvEq + ', '\n",
    "    \n",
    "        # Third, deal with variables in negated predicate\n",
    "        newbvNegPreds = [] \n",
    "        for bvNegPred in bvNegPreds:\n",
    "            newbvNegPred = bvNegPred\n",
    "            for variable,bt in btDict.items():\n",
    "                if bvNegPred.find(bt) != -1:\n",
    "                    newbvNegPred = newbvNegPred.replace(bt, variable)\n",
    "            newbvNegPreds.append(newbvNegPred)\n",
    "    \n",
    "        for newbvNegPred in newbvNegPreds:\n",
    "            newBody += newbvNegPred + ', '\n",
    "    \n",
    "        newBody = newBody.strip(', ')\n",
    "    \n",
    "        newHead = head\n",
    "        for variable in btDict.keys():\n",
    "            if head.find(btDict[variable]) != -1:\n",
    "                newHead = newHead.replace(btDict[variable],variable)\n",
    "    \n",
    "        newClause = newHead+\":-\"+newBody\n",
    "        results += newClause + '.'\n",
    "    return results"
   ]
  },
  {
   "cell_type": "code",
   "execution_count": 819,
   "metadata": {},
   "outputs": [],
   "source": [
    "newDict1 = newDict"
   ]
  },
  {
   "cell_type": "code",
   "execution_count": 820,
   "metadata": {},
   "outputs": [],
   "source": [
    "rr = renameVariableInClauses(newDict1)"
   ]
  },
  {
   "cell_type": "code",
   "execution_count": 824,
   "metadata": {},
   "outputs": [
    {
     "data": {
      "text/plain": [
       "['P5(x1):-madein(x1,x2), P1(x3), x2==x3',\n",
       " 'P6(x1):-madein(x1,x2), P2(x3), x2==x3',\n",
       " 'bad_product(x1):-madein(x1,x2), P3(x3), x2!=x4, x2!=x5, x2!=x3',\n",
       " 'perfect_product(x1):-good_product(x1), price(x2,x3), P4(x4), x1==x2, x3<x4, not bad_product(x1)']"
      ]
     },
     "execution_count": 824,
     "metadata": {},
     "output_type": "execute_result"
    }
   ],
   "source": [
    "rr.split('.')"
   ]
  },
  {
   "cell_type": "code",
   "execution_count": 822,
   "metadata": {},
   "outputs": [
    {
     "data": {
      "text/plain": [
       "{'Clause1': 'P5(Product):-madein(Product,v1), P1(v1)',\n",
       " 'Clause2': 'P6(Product):-madein(Product,v1), P2(v1)',\n",
       " 'Clause3': 'bad_product(Product):-madein(Product,Country), Country!=v1, Country!=v2, Country!=v3, P3(v3)',\n",
       " 'Clause4': 'perfect_product(Product):-good_product(Product), not bad_product(Product), price(Product,Price), Price<v1, P4(v1)'}"
      ]
     },
     "execution_count": 822,
     "metadata": {},
     "output_type": "execute_result"
    }
   ],
   "source": [
    "newDict"
   ]
  },
  {
   "cell_type": "code",
   "execution_count": null,
   "metadata": {},
   "outputs": [],
   "source": []
  }
 ],
 "metadata": {
  "anaconda-cloud": {},
  "kernelspec": {
   "display_name": "Python 3",
   "language": "python",
   "name": "python3"
  },
  "language_info": {
   "codemirror_mode": {
    "name": "ipython",
    "version": 3
   },
   "file_extension": ".py",
   "mimetype": "text/x-python",
   "name": "python",
   "nbconvert_exporter": "python",
   "pygments_lexer": "ipython3",
   "version": "3.6.5"
  }
 },
 "nbformat": 4,
 "nbformat_minor": 2
}
