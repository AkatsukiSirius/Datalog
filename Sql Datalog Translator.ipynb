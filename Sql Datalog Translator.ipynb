{
 "cells": [
  {
   "cell_type": "markdown",
   "metadata": {},
   "source": [
    "# 0. Table - EDB"
   ]
  },
  {
   "cell_type": "markdown",
   "metadata": {},
   "source": [
    "## Table 1: Product\n",
    "\n",
    "### Col 1: item\n",
    "\n",
    "### Col 2: price"
   ]
  },
  {
   "cell_type": "markdown",
   "metadata": {},
   "source": [
    "## Table 2: Product\n",
    "\n",
    "### Col 1: item\n",
    "\n",
    "### Col 2: country"
   ]
  },
  {
   "cell_type": "code",
   "execution_count": 1,
   "metadata": {
    "collapsed": true
   },
   "outputs": [],
   "source": [
    "productCol = [\"Product\",\"Price\"]\n",
    "madeinCol = [\"Product\", \"Country\"]"
   ]
  },
  {
   "cell_type": "code",
   "execution_count": 2,
   "metadata": {
    "collapsed": true
   },
   "outputs": [],
   "source": [
    "tables = [\"madein\", \"price\"]"
   ]
  },
  {
   "cell_type": "code",
   "execution_count": 3,
   "metadata": {
    "collapsed": true
   },
   "outputs": [],
   "source": [
    "tabCol = {tables[0]:madeinCol, tables[1]:productCol}"
   ]
  },
  {
   "cell_type": "code",
   "execution_count": 70,
   "metadata": {
    "collapsed": true
   },
   "outputs": [],
   "source": [
    "countries = [\"germany\",\"belgium\",\"uk\",\"china\",\"usa\",\"japan\"]\n",
    "prices = [\"5\",\"6\",\"10\"]"
   ]
  },
  {
   "cell_type": "code",
   "execution_count": 74,
   "metadata": {
    "collapsed": true
   },
   "outputs": [],
   "source": [
    "consDict = {\"Country\":countries,  \"Price\": prices}"
   ]
  },
  {
   "cell_type": "code",
   "execution_count": 75,
   "metadata": {},
   "outputs": [
    {
     "data": {
      "text/plain": [
       "{'Country': ['germany', 'belgium', 'uk', 'china', 'usa', 'japan'],\n",
       " 'Price': ['5', '6', '10']}"
      ]
     },
     "execution_count": 75,
     "metadata": {},
     "output_type": "execute_result"
    }
   ],
   "source": [
    "consDict"
   ]
  },
  {
   "cell_type": "markdown",
   "metadata": {},
   "source": [
    "# 1. From Datalog to Sql"
   ]
  },
  {
   "cell_type": "markdown",
   "metadata": {},
   "source": [
    "## Datalog Programs Predicates\n",
    "\n",
    "## $p = \\{p_1,p_2,p_3\\}$\n",
    "\n",
    "### $p_1:$ good_product\n",
    "\n",
    "- Made in Germany or Belgium\n",
    "\n",
    "### $p_2:$ bad_product\n",
    "\n",
    "- Not made in Germany, Belgium or UK\n",
    "\n",
    "### $p_3:$ perfect_product\n",
    "\n",
    "- Price < 5 and not a bad product"
   ]
  },
  {
   "cell_type": "markdown",
   "metadata": {},
   "source": [
    "## Datalog Program P"
   ]
  },
  {
   "cell_type": "code",
   "execution_count": 76,
   "metadata": {
    "collapsed": true
   },
   "outputs": [],
   "source": [
    "datalog_goodProd = \"good_product(Product):-madein(Product,germany).good_product(Product):-madein(Product,belgium).\"\n",
    "\n",
    "datalog_badProd = \"bad_product(Product):-madein(Product,Country), Country!=germany, Country!=belgium, Country!=uk.\"\n",
    "\n",
    "datalog_perfProd = \"perfect_product(Product):-good_product(Product), not bad_product(belgium), price(Product,Price), Price<5.\""
   ]
  },
  {
   "cell_type": "markdown",
   "metadata": {},
   "source": [
    "## Step 1. Replace Constant with variables"
   ]
  },
  {
   "cell_type": "code",
   "execution_count": 77,
   "metadata": {
    "collapsed": true
   },
   "outputs": [],
   "source": [
    "import re"
   ]
  },
  {
   "cell_type": "code",
   "execution_count": 78,
   "metadata": {
    "collapsed": true
   },
   "outputs": [],
   "source": [
    "sep1 = '.'\n",
    "sep2 = ':-'\n",
    "sep3 = ', '\n",
    "cmps = [\"!=\",\">\",\"<\",\"<=\",\">=\",\"==\"]"
   ]
  },
  {
   "cell_type": "code",
   "execution_count": 79,
   "metadata": {},
   "outputs": [
    {
     "data": {
      "text/plain": [
       "'perfect_product(Product):-good_product(Product), not bad_product(belgium), price(Product,Price), Price<5.'"
      ]
     },
     "execution_count": 79,
     "metadata": {},
     "output_type": "execute_result"
    }
   ],
   "source": [
    "datalog_goodProd\n",
    "datalog_badProd\n",
    "datalog_perfProd"
   ]
  },
  {
   "cell_type": "code",
   "execution_count": 80,
   "metadata": {
    "collapsed": true
   },
   "outputs": [],
   "source": [
    "def getClauses(datalog_query):\n",
    "    return [item for item in datalog_query.split(sep1) if item != '']"
   ]
  },
  {
   "cell_type": "code",
   "execution_count": 81,
   "metadata": {
    "collapsed": true
   },
   "outputs": [],
   "source": [
    "def getHeads(datalog_query):\n",
    "    clauses = getClauses(datalog_query)\n",
    "    return [clause.split(sep2)[0] for clause in clauses]"
   ]
  },
  {
   "cell_type": "code",
   "execution_count": 82,
   "metadata": {
    "collapsed": true
   },
   "outputs": [],
   "source": [
    "def getAllPredicates(datalog_query):\n",
    "    return [head.split('(')[0] for head in getHeads(datalog_query)]"
   ]
  },
  {
   "cell_type": "code",
   "execution_count": 83,
   "metadata": {
    "collapsed": true
   },
   "outputs": [],
   "source": [
    "def getVariablesInHeads(datalog_query):\n",
    "    heads = getHeads(datalog_query)\n",
    "    query = []\n",
    "    for head in heads:\n",
    "        query += [q.strip() for q in head[head.find(\"(\")+1:head.find(\")\")].split(',')]\n",
    "    return query"
   ]
  },
  {
   "cell_type": "code",
   "execution_count": 84,
   "metadata": {
    "collapsed": true
   },
   "outputs": [],
   "source": [
    "def getBodies(datalog_query):\n",
    "    clauses = getClauses(datalog_query)\n",
    "    return [clause.split(sep2)[1] for clause in clauses]"
   ]
  },
  {
   "cell_type": "code",
   "execution_count": 85,
   "metadata": {
    "collapsed": true
   },
   "outputs": [],
   "source": [
    "def getHBDict(datalog_query):\n",
    "    result = {}\n",
    "    clauses = getClauses(datalog_query)\n",
    "    for clause in clauses:\n",
    "        result[clause.split(sep2)[1]] = clause.split(sep2)[0]+sep2+clause.split(sep2)[1]\n",
    "    return result"
   ]
  },
  {
   "cell_type": "code",
   "execution_count": 86,
   "metadata": {
    "collapsed": true
   },
   "outputs": [],
   "source": [
    "def getTotalPredicates(datalog_query):\n",
    "    result = []\n",
    "    for body in getBodies(datalog_query):\n",
    "        for term in body.split(', '):\n",
    "            result.append(term)\n",
    "    for head in getHeads(datalog_query):\n",
    "        result.append(head)\n",
    "    return result"
   ]
  },
  {
   "cell_type": "code",
   "execution_count": 87,
   "metadata": {
    "collapsed": true
   },
   "outputs": [],
   "source": [
    "def getLiteralHeadDict(datalog_query):\n",
    "    bH = getHBDict(datalog_query)\n",
    "    result = {}\n",
    "    for key in bH.keys():\n",
    "        if len(key.split(sep3))>1:\n",
    "            for term in key.split(sep3):\n",
    "                result[term] = bH[key]\n",
    "        else:\n",
    "            result[key.split(sep3)[0]] = bH[key]\n",
    "    return result"
   ]
  },
  {
   "cell_type": "code",
   "execution_count": 88,
   "metadata": {
    "collapsed": true
   },
   "outputs": [],
   "source": [
    "def getVariablesInBodies(datalog_query):\n",
    "    query = []\n",
    "    for body in getHBDict(datalog_query).keys():\n",
    "        for term in body.split(', '):\n",
    "            if term.find(\"(\") != -1:\n",
    "                query += [q.strip() for q in term[term.find(\"(\")+1:term.find(\")\")].split(',')]\n",
    "            else:\n",
    "                for cmp in cmps:\n",
    "                    if term.find(cmp) != -1:\n",
    "                        query.append(term.split(cmp)[0])\n",
    "                        query.append(term.split(cmp)[1])\n",
    "    return query"
   ]
  },
  {
   "cell_type": "code",
   "execution_count": 89,
   "metadata": {
    "collapsed": true
   },
   "outputs": [],
   "source": [
    "def getVariablesInClauses(datalog_query):\n",
    "    query = []\n",
    "    for body in getHBDict(datalog_query).keys():\n",
    "        for term in body.split(', '):\n",
    "            if term.find(\"(\") != -1:\n",
    "                query += [q.strip() for q in term[term.find(\"(\")+1:term.find(\")\")].split(',')]\n",
    "            else:\n",
    "                for cmp in cmps:\n",
    "                    if term.find(cmp) != -1:\n",
    "                        query.append(term.split(cmp)[0])\n",
    "                        query.append(term.split(cmp)[1])\n",
    "    for body in getHBDict(datalog_query).values():\n",
    "        for term in body.split(', '):\n",
    "            if term.find(\"(\") != -1:\n",
    "                query += [q.strip() for q in term[term.find(\"(\")+1:term.find(\")\")].split(',')]\n",
    "            else:\n",
    "                for cmp in cmps:\n",
    "                    if term.find(cmp) != -1:\n",
    "                        query.append(term.split(cmp)[0])\n",
    "                        query.append(term.split(cmp)[1])\n",
    "    return query"
   ]
  },
  {
   "cell_type": "code",
   "execution_count": 90,
   "metadata": {
    "collapsed": true
   },
   "outputs": [],
   "source": [
    "def getPVDict(datalog_query):\n",
    "    predConsDict = {}\n",
    "    i = 1\n",
    "    for var in getVariablesInClauses(datalog_query):\n",
    "        for ls in consDict.values():\n",
    "            if var in ls:\n",
    "                if var in predConsDict.keys():\n",
    "                    continue\n",
    "                else:\n",
    "                    predConsDict[var] = 'P'+str(i)\n",
    "                    i = i + 1\n",
    "    return predConsDict"
   ]
  },
  {
   "cell_type": "code",
   "execution_count": 91,
   "metadata": {},
   "outputs": [],
   "source": [
    "pvDict = getPVDict(inp)"
   ]
  },
  {
   "cell_type": "code",
   "execution_count": 92,
   "metadata": {
    "collapsed": true
   },
   "outputs": [],
   "source": [
    "inp = datalog_goodProd+datalog_badProd+datalog_perfProd"
   ]
  },
  {
   "cell_type": "code",
   "execution_count": 93,
   "metadata": {},
   "outputs": [
    {
     "data": {
      "text/plain": [
       "'good_product(Product):-madein(Product,germany).good_product(Product):-madein(Product,belgium).bad_product(Product):-madein(Product,Country), Country!=germany, Country!=belgium, Country!=uk.perfect_product(Product):-good_product(Product), not bad_product(belgium), price(Product,Price), Price<5.'"
      ]
     },
     "execution_count": 93,
     "metadata": {},
     "output_type": "execute_result"
    }
   ],
   "source": [
    "inp"
   ]
  },
  {
   "cell_type": "code",
   "execution_count": 94,
   "metadata": {
    "collapsed": true
   },
   "outputs": [],
   "source": [
    "bH = getHBDict(inp)"
   ]
  },
  {
   "cell_type": "code",
   "execution_count": 95,
   "metadata": {},
   "outputs": [
    {
     "data": {
      "text/plain": [
       "{'good_product(Product), not bad_product(belgium), price(Product,Price), Price<5': 'perfect_product(Product):-good_product(Product), not bad_product(belgium), price(Product,Price), Price<5',\n",
       " 'madein(Product,Country), Country!=germany, Country!=belgium, Country!=uk': 'bad_product(Product):-madein(Product,Country), Country!=germany, Country!=belgium, Country!=uk',\n",
       " 'madein(Product,belgium)': 'good_product(Product):-madein(Product,belgium)',\n",
       " 'madein(Product,germany)': 'good_product(Product):-madein(Product,germany)'}"
      ]
     },
     "execution_count": 95,
     "metadata": {},
     "output_type": "execute_result"
    }
   ],
   "source": [
    "bH"
   ]
  },
  {
   "cell_type": "code",
   "execution_count": 96,
   "metadata": {},
   "outputs": [
    {
     "data": {
      "text/plain": [
       "{'Country': ['germany', 'belgium', 'uk', 'china', 'usa', 'japan'],\n",
       " 'Price': ['5', '6', '10']}"
      ]
     },
     "execution_count": 96,
     "metadata": {},
     "output_type": "execute_result"
    }
   ],
   "source": [
    "consDict"
   ]
  },
  {
   "cell_type": "code",
   "execution_count": 97,
   "metadata": {},
   "outputs": [
    {
     "data": {
      "text/plain": [
       "{'5': 'P4', 'belgium': 'P2', 'germany': 'P1', 'uk': 'P3'}"
      ]
     },
     "execution_count": 97,
     "metadata": {},
     "output_type": "execute_result"
    }
   ],
   "source": [
    "pvDict"
   ]
  },
  {
   "cell_type": "code",
   "execution_count": 98,
   "metadata": {
    "collapsed": true
   },
   "outputs": [],
   "source": [
    "consts = []\n",
    "for key in consDict.keys():\n",
    "    consts+=consDict[key]"
   ]
  },
  {
   "cell_type": "code",
   "execution_count": 101,
   "metadata": {},
   "outputs": [
    {
     "name": "stdout",
     "output_type": "stream",
     "text": [
      "germany\n",
      "belgium\n",
      "uk\n",
      "germany\n",
      "5\n",
      "belgium\n",
      "belgium\n"
     ]
    }
   ],
   "source": [
    "newDict = {}\n",
    "for key in bH.keys():\n",
    "    i = 1\n",
    "    clause = bH[key]\n",
    "    for const in consts:     \n",
    "        if clause.find(const) != -1:\n",
    "            print(const)\n",
    "            variable = \"v\" + str(i)\n",
    "            clause = clause.replace(const,variable)\n",
    "            add = \", \" + pvDict[const] + \"(\" + variable + \")\"\n",
    "            temp = clause + add\n",
    "            i = i + 1\n",
    "    newDict[key] = temp "
   ]
  },
  {
   "cell_type": "code",
   "execution_count": 102,
   "metadata": {},
   "outputs": [
    {
     "data": {
      "text/plain": [
       "{'good_product(Product), not bad_product(belgium), price(Product,Price), Price<5': 'perfect_product(Product):-good_product(Product), not bad_product(v2), price(Product,Price), Price<v1, P2(v2)',\n",
       " 'madein(Product,Country), Country!=germany, Country!=belgium, Country!=uk': 'bad_product(Product):-madein(Product,Country), Country!=v1, Country!=v2, Country!=v3, P3(v3)',\n",
       " 'madein(Product,belgium)': 'good_product(Product):-madein(Product,v1), P2(v1)',\n",
       " 'madein(Product,germany)': 'good_product(Product):-madein(Product,v1), P1(v1)'}"
      ]
     },
     "execution_count": 102,
     "metadata": {},
     "output_type": "execute_result"
    }
   ],
   "source": [
    "newDict"
   ]
  },
  {
   "cell_type": "code",
   "execution_count": null,
   "metadata": {
    "collapsed": true
   },
   "outputs": [],
   "source": []
  }
 ],
 "metadata": {
  "anaconda-cloud": {},
  "kernelspec": {
   "display_name": "Python 3",
   "language": "python",
   "name": "python3"
  },
  "language_info": {
   "codemirror_mode": {
    "name": "ipython",
    "version": 3
   },
   "file_extension": ".py",
   "mimetype": "text/x-python",
   "name": "python",
   "nbconvert_exporter": "python",
   "pygments_lexer": "ipython3",
   "version": "3.6.5"
  }
 },
 "nbformat": 4,
 "nbformat_minor": 2
}
