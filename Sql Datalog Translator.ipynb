{
 "cells": [
  {
   "cell_type": "markdown",
   "metadata": {},
   "source": [
    "# 0. Table - EDB"
   ]
  },
  {
   "cell_type": "markdown",
   "metadata": {},
   "source": [
    "## Table 1: Product\n",
    "\n",
    "### Col 1: item\n",
    "\n",
    "### Col 2: price"
   ]
  },
  {
   "cell_type": "markdown",
   "metadata": {},
   "source": [
    "## Table 2: Product\n",
    "\n",
    "### Col 1: item\n",
    "\n",
    "### Col 2: country"
   ]
  },
  {
   "cell_type": "code",
   "execution_count": 1031,
   "metadata": {},
   "outputs": [],
   "source": [
    "productCol = [\"Product\",\"Price\"]\n",
    "madeinCol = [\"Product\", \"Country\"]"
   ]
  },
  {
   "cell_type": "code",
   "execution_count": 1032,
   "metadata": {},
   "outputs": [],
   "source": [
    "tables = [\"madein\", \"price\"]"
   ]
  },
  {
   "cell_type": "code",
   "execution_count": 1033,
   "metadata": {},
   "outputs": [],
   "source": [
    "tabCol = {tables[0]:madeinCol, tables[1]:productCol}"
   ]
  },
  {
   "cell_type": "code",
   "execution_count": 1034,
   "metadata": {},
   "outputs": [],
   "source": [
    "countries = [\"germany\",\"belgium\",\"uk\",\"china\",\"usa\",\"japan\"]\n",
    "prices = [\"5\",\"6\",\"10\",\"1\"]"
   ]
  },
  {
   "cell_type": "code",
   "execution_count": 1035,
   "metadata": {},
   "outputs": [],
   "source": [
    "consDict = {\"Country\":countries,  \"Price\": prices}"
   ]
  },
  {
   "cell_type": "code",
   "execution_count": 1150,
   "metadata": {},
   "outputs": [
    {
     "data": {
      "text/plain": [
       "{'Country': ['germany', 'belgium', 'uk', 'china', 'usa', 'japan'],\n",
       " 'Price': ['5', '6', '10', '1']}"
      ]
     },
     "execution_count": 1150,
     "metadata": {},
     "output_type": "execute_result"
    }
   ],
   "source": [
    "consDict"
   ]
  },
  {
   "cell_type": "markdown",
   "metadata": {},
   "source": [
    "# 1. From Datalog to Sql"
   ]
  },
  {
   "cell_type": "markdown",
   "metadata": {},
   "source": [
    "## Datalog Programs Predicates\n",
    "\n",
    "## $p = \\{p_1,p_2,p_3\\}$\n",
    "\n",
    "### $p_1:$ good_product\n",
    "\n",
    "- Made in Germany or Belgium\n",
    "\n",
    "### $p_2:$ bad_product\n",
    "\n",
    "- Not made in Germany, Belgium or UK\n",
    "\n",
    "### $p_3:$ perfect_product\n",
    "\n",
    "- Price < 5 and not a bad product"
   ]
  },
  {
   "cell_type": "markdown",
   "metadata": {},
   "source": [
    "## Datalog Program P"
   ]
  },
  {
   "cell_type": "code",
   "execution_count": 1320,
   "metadata": {},
   "outputs": [],
   "source": [
    "datalog_goodProd = \"good_product(Product):-madein(Product,germany).good_product(Product):-madein(Product,belgium).\"\n",
    "\n",
    "datalog_badProd = \"bad_product(Product):-madein(Product,Country), Country!=germany, Country!=belgium, Country!=uk.\"\n",
    "\n",
    "datalog_perfProd = \"perfect_product(Product):-good_product(Product), not bad_product(belgium), price(Product,Price), Price<5.\""
   ]
  },
  {
   "cell_type": "markdown",
   "metadata": {},
   "source": [
    "## Step 1. Replace Constant with variables"
   ]
  },
  {
   "cell_type": "code",
   "execution_count": 1294,
   "metadata": {},
   "outputs": [],
   "source": [
    "import re"
   ]
  },
  {
   "cell_type": "code",
   "execution_count": 1295,
   "metadata": {},
   "outputs": [],
   "source": [
    "for consts in constants:\n",
    "    for const in consts:\n",
    "        print(const)"
   ]
  },
  {
   "cell_type": "code",
   "execution_count": 1296,
   "metadata": {},
   "outputs": [],
   "source": [
    "sep1 = '.'\n",
    "sep2 = ':-'\n",
    "sep3 = ', '\n",
    "cmps = [\"!=\",\">\",\"<\",\"<=\",\">=\",\"==\"]"
   ]
  },
  {
   "cell_type": "code",
   "execution_count": 1297,
   "metadata": {},
   "outputs": [
    {
     "data": {
      "text/plain": [
       "'perfect_product(Product):-good_product(Product), not bad_product(Product), price(Product,Price), Price<5.'"
      ]
     },
     "execution_count": 1297,
     "metadata": {},
     "output_type": "execute_result"
    }
   ],
   "source": [
    "datalog_goodProd\n",
    "datalog_badProd\n",
    "datalog_perfProd"
   ]
  },
  {
   "cell_type": "code",
   "execution_count": 1298,
   "metadata": {},
   "outputs": [],
   "source": [
    "def getClauses(datalog_query):\n",
    "    return [item for item in datalog_query.split(sep1) if item != '']"
   ]
  },
  {
   "cell_type": "code",
   "execution_count": 1299,
   "metadata": {},
   "outputs": [],
   "source": [
    "def getHeads(datalog_query):\n",
    "    clauses = getClauses(datalog_query)\n",
    "    return [clause.split(sep2)[0] for clause in clauses]"
   ]
  },
  {
   "cell_type": "code",
   "execution_count": 1300,
   "metadata": {},
   "outputs": [],
   "source": [
    "def getAllPredicates(datalog_query):\n",
    "    return [head.split('(')[0] for head in getHeads(datalog_query)]"
   ]
  },
  {
   "cell_type": "code",
   "execution_count": 1301,
   "metadata": {},
   "outputs": [],
   "source": [
    "def getVariablesInHeads(datalog_query):\n",
    "    heads = getHeads(datalog_query)\n",
    "    query = []\n",
    "    for head in heads:\n",
    "        query += [q.strip() for q in head[head.find(\"(\")+1:head.find(\")\")].split(',')]\n",
    "    return query"
   ]
  },
  {
   "cell_type": "code",
   "execution_count": 1302,
   "metadata": {},
   "outputs": [],
   "source": [
    "def getBodies(datalog_query):\n",
    "    clauses = getClauses(datalog_query)\n",
    "    return [clause.split(sep2)[1] for clause in clauses]"
   ]
  },
  {
   "cell_type": "code",
   "execution_count": 1393,
   "metadata": {},
   "outputs": [],
   "source": [
    "def getHBDict(datalog_query):\n",
    "    result = {}\n",
    "    clauses = getClauses(datalog_query)\n",
    "    for clause in clauses:\n",
    "        result[clause.split(sep2)[1]] = clause.split(sep2)[0]+sep2+clause.split(sep2)[1]\n",
    "    return result"
   ]
  },
  {
   "cell_type": "code",
   "execution_count": 1394,
   "metadata": {},
   "outputs": [],
   "source": [
    "def getTotalPredicates(datalog_query):\n",
    "    result = []\n",
    "    for body in getBodies(datalog_query):\n",
    "        for term in body.split(', '):\n",
    "            result.append(term)\n",
    "    for head in getHeads(datalog_query):\n",
    "        result.append(head)\n",
    "    return result"
   ]
  },
  {
   "cell_type": "code",
   "execution_count": 1395,
   "metadata": {},
   "outputs": [],
   "source": [
    "def getLiteralHeadDict(datalog_query):\n",
    "    bH = getHBDict(datalog_query)\n",
    "    result = {}\n",
    "    for key in bH.keys():\n",
    "        if len(key.split(sep3))>1:\n",
    "            for term in key.split(sep3):\n",
    "                result[term] = bH[key]\n",
    "        else:\n",
    "            result[key.split(sep3)[0]] = bH[key]\n",
    "    return result"
   ]
  },
  {
   "cell_type": "code",
   "execution_count": 1396,
   "metadata": {},
   "outputs": [],
   "source": [
    "def getVariablesInBodies(datalog_query):\n",
    "    query = []\n",
    "    for body in getHBDict(datalog_query).keys():\n",
    "        for term in body.split(', '):\n",
    "            if term.find(\"(\") != -1:\n",
    "                query += [q.strip() for q in term[term.find(\"(\")+1:term.find(\")\")].split(',')]\n",
    "            else:\n",
    "                for cmp in cmps:\n",
    "                    if term.find(cmp) != -1:\n",
    "                        query.append(term.split(cmp)[0])\n",
    "                        query.append(term.split(cmp)[1])\n",
    "    return query"
   ]
  },
  {
   "cell_type": "code",
   "execution_count": 1397,
   "metadata": {},
   "outputs": [],
   "source": [
    "def getVariablesInClauses(datalog_query):\n",
    "    query = []\n",
    "    for body in getHBDict(datalog_query).keys():\n",
    "        for term in body.split(', '):\n",
    "            if term.find(\"(\") != -1:\n",
    "                query += [q.strip() for q in term[term.find(\"(\")+1:term.find(\")\")].split(',')]\n",
    "            else:\n",
    "                for cmp in cmps:\n",
    "                    if term.find(cmp) != -1:\n",
    "                        query.append(term.split(cmp)[0])\n",
    "                        query.append(term.split(cmp)[1])\n",
    "    for body in getHBDict(datalog_query).values():\n",
    "        for term in body.split(', '):\n",
    "            if term.find(\"(\") != -1:\n",
    "                query += [q.strip() for q in term[term.find(\"(\")+1:term.find(\")\")].split(',')]\n",
    "            else:\n",
    "                for cmp in cmps:\n",
    "                    if term.find(cmp) != -1:\n",
    "                        query.append(term.split(cmp)[0])\n",
    "                        query.append(term.split(cmp)[1])\n",
    "    return query"
   ]
  },
  {
   "cell_type": "code",
   "execution_count": 1398,
   "metadata": {},
   "outputs": [],
   "source": [
    "def getPVDict(datalog_query):\n",
    "    predConsDict = {}\n",
    "    i = 1\n",
    "    for var in getVariablesInClauses(datalog_query):\n",
    "        for ls in consDict.values():\n",
    "            if var in ls:\n",
    "                if var in predConsDict.keys():\n",
    "                    continue\n",
    "                else:\n",
    "                    predConsDict[var] = 'P'+str(i)\n",
    "                    i = i + 1\n",
    "    return predConsDict"
   ]
  },
  {
   "cell_type": "code",
   "execution_count": 1399,
   "metadata": {},
   "outputs": [],
   "source": [
    "inp = datalog_goodProd+datalog_badProd+datalog_perfProd"
   ]
  },
  {
   "cell_type": "code",
   "execution_count": 1400,
   "metadata": {},
   "outputs": [
    {
     "data": {
      "text/plain": [
       "'good_product(Product):-madein(Product,germany).good_product(Product):-madein(Product,belgium).bad_product(Product):-madein(Product,Country), Country!=germany, Country!=belgium, Country!=uk.perfect_product(Product):-good_product(Product), not bad_product(belgium), price(Product,Price), Price<5.'"
      ]
     },
     "execution_count": 1400,
     "metadata": {},
     "output_type": "execute_result"
    }
   ],
   "source": [
    "inp"
   ]
  },
  {
   "cell_type": "code",
   "execution_count": 1401,
   "metadata": {},
   "outputs": [],
   "source": [
    "bH = getHBDict(inp)"
   ]
  },
  {
   "cell_type": "code",
   "execution_count": 1402,
   "metadata": {},
   "outputs": [
    {
     "data": {
      "text/plain": [
       "{'good_product(Product), not bad_product(belgium), price(Product,Price), Price<5': 'perfect_product(Product):-good_product(Product), not bad_product(belgium), price(Product,Price), Price<5',\n",
       " 'madein(Product,Country), Country!=germany, Country!=belgium, Country!=uk': 'bad_product(Product):-madein(Product,Country), Country!=germany, Country!=belgium, Country!=uk',\n",
       " 'madein(Product,belgium)': 'good_product(Product):-madein(Product,belgium)',\n",
       " 'madein(Product,germany)': 'good_product(Product):-madein(Product,germany)'}"
      ]
     },
     "execution_count": 1402,
     "metadata": {},
     "output_type": "execute_result"
    }
   ],
   "source": [
    "bH"
   ]
  }
 ],
 "metadata": {
  "kernelspec": {
   "display_name": "Python 3",
   "language": "python",
   "name": "python3"
  },
  "language_info": {
   "codemirror_mode": {
    "name": "ipython",
    "version": 3
   },
   "file_extension": ".py",
   "mimetype": "text/x-python",
   "name": "python",
   "nbconvert_exporter": "python",
   "pygments_lexer": "ipython3",
   "version": "3.6.5"
  }
 },
 "nbformat": 4,
 "nbformat_minor": 2
}
