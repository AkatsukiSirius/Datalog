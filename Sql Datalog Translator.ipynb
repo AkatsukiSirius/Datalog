{
 "cells": [
  {
   "cell_type": "markdown",
   "metadata": {},
   "source": [
    "# 0. Table - EDB"
   ]
  },
  {
   "cell_type": "markdown",
   "metadata": {},
   "source": [
    "## Table 1: Product\n",
    "\n",
    "### Col 1: item\n",
    "\n",
    "### Col 2: price"
   ]
  },
  {
   "cell_type": "markdown",
   "metadata": {},
   "source": [
    "## Table 2: Product\n",
    "\n",
    "### Col 1: item\n",
    "\n",
    "### Col 2: country"
   ]
  },
  {
   "cell_type": "code",
   "execution_count": 1,
   "metadata": {},
   "outputs": [],
   "source": [
    "productCol = [\"Product\",\"Price\"]\n",
    "madeinCol = [\"Product\", \"Country\"]"
   ]
  },
  {
   "cell_type": "code",
   "execution_count": 2,
   "metadata": {},
   "outputs": [],
   "source": [
    "tables = [\"madein\", \"price\"]"
   ]
  },
  {
   "cell_type": "code",
   "execution_count": 3,
   "metadata": {},
   "outputs": [],
   "source": [
    "tabCol = {tables[0]:madeinCol, tables[1]:productCol}"
   ]
  },
  {
   "cell_type": "code",
   "execution_count": 4,
   "metadata": {},
   "outputs": [],
   "source": [
    "countries = [\"germany\",\"belgium\",\"uk\",\"china\",\"usa\",\"japan\"]\n",
    "prices = [\"5\",\"6\",\"10\"]"
   ]
  },
  {
   "cell_type": "code",
   "execution_count": 5,
   "metadata": {},
   "outputs": [],
   "source": [
    "consDict = {\"Country\":countries,  \"Price\": prices}"
   ]
  },
  {
   "cell_type": "code",
   "execution_count": 6,
   "metadata": {},
   "outputs": [
    {
     "data": {
      "text/plain": [
       "{'Country': ['germany', 'belgium', 'uk', 'china', 'usa', 'japan'],\n",
       " 'Price': ['5', '6', '10']}"
      ]
     },
     "execution_count": 6,
     "metadata": {},
     "output_type": "execute_result"
    }
   ],
   "source": [
    "consDict"
   ]
  },
  {
   "cell_type": "markdown",
   "metadata": {},
   "source": [
    "# 1. From Datalog to Sql"
   ]
  },
  {
   "cell_type": "markdown",
   "metadata": {},
   "source": [
    "## Datalog Programs Predicates\n",
    "\n",
    "## $p = \\{p_1,p_2,p_3\\}$\n",
    "\n",
    "### $p_1:$ good_product\n",
    "\n",
    "- Made in Germany or Belgium\n",
    "\n",
    "### $p_2:$ bad_product\n",
    "\n",
    "- Not made in Germany, Belgium or UK\n",
    "\n",
    "### $p_3:$ perfect_product\n",
    "\n",
    "- Price < 5 and not a bad product"
   ]
  },
  {
   "cell_type": "markdown",
   "metadata": {},
   "source": [
    "## Datalog Program P"
   ]
  },
  {
   "cell_type": "code",
   "execution_count": 7,
   "metadata": {},
   "outputs": [],
   "source": [
    "datalog_goodProd = \"good_product(Product):-madein(Product,germany).good_product(Product):-madein(Product,belgium).\"\n",
    "\n",
    "datalog_badProd = \"bad_product(Product):-madein(Product,Country), Country!=germany, Country!=belgium, Country!=uk.\"\n",
    "\n",
    "datalog_perfProd = \"perfect_product(Product):-good_product(Product), not bad_product(belgium), price(Product,Price), Price<5.\""
   ]
  },
  {
   "cell_type": "code",
   "execution_count": 34,
   "metadata": {},
   "outputs": [
    {
     "data": {
      "text/plain": [
       "'good_product(Product):-madein(Product,germany).good_product(Product):-madein(Product,belgium).'"
      ]
     },
     "execution_count": 34,
     "metadata": {},
     "output_type": "execute_result"
    }
   ],
   "source": [
    "datalog_goodProd"
   ]
  },
  {
   "cell_type": "code",
   "execution_count": 35,
   "metadata": {},
   "outputs": [
    {
     "data": {
      "text/plain": [
       "'bad_product(Product):-madein(Product,Country), Country!=germany, Country!=belgium, Country!=uk.'"
      ]
     },
     "execution_count": 35,
     "metadata": {},
     "output_type": "execute_result"
    }
   ],
   "source": [
    "datalog_badProd"
   ]
  },
  {
   "cell_type": "code",
   "execution_count": 33,
   "metadata": {},
   "outputs": [
    {
     "data": {
      "text/plain": [
       "'perfect_product(Product):-good_product(Product), not bad_product(belgium), price(Product,Price), Price<5.'"
      ]
     },
     "execution_count": 33,
     "metadata": {},
     "output_type": "execute_result"
    }
   ],
   "source": [
    "datalog_perfProd"
   ]
  },
  {
   "cell_type": "code",
   "execution_count": 8,
   "metadata": {},
   "outputs": [],
   "source": [
    "import re"
   ]
  },
  {
   "cell_type": "code",
   "execution_count": 9,
   "metadata": {},
   "outputs": [],
   "source": [
    "sep1 = '.'\n",
    "sep2 = ':-'\n",
    "sep3 = ', '\n",
    "cmps = [\"!=\",\">\",\"<\",\"<=\",\">=\",\"==\"]"
   ]
  },
  {
   "cell_type": "code",
   "execution_count": 10,
   "metadata": {},
   "outputs": [
    {
     "data": {
      "text/plain": [
       "'perfect_product(Product):-good_product(Product), not bad_product(belgium), price(Product,Price), Price<5.'"
      ]
     },
     "execution_count": 10,
     "metadata": {},
     "output_type": "execute_result"
    }
   ],
   "source": [
    "datalog_goodProd\n",
    "datalog_badProd\n",
    "datalog_perfProd"
   ]
  },
  {
   "cell_type": "code",
   "execution_count": 11,
   "metadata": {},
   "outputs": [],
   "source": [
    "def getClauses(datalog_query):\n",
    "    return [item for item in datalog_query.split(sep1) if item != '']"
   ]
  },
  {
   "cell_type": "code",
   "execution_count": 12,
   "metadata": {},
   "outputs": [],
   "source": [
    "def getHeads(datalog_query):\n",
    "    clauses = getClauses(datalog_query)\n",
    "    return [clause.split(sep2)[0] for clause in clauses]"
   ]
  },
  {
   "cell_type": "code",
   "execution_count": 13,
   "metadata": {},
   "outputs": [],
   "source": [
    "def getAllPredicates(datalog_query):\n",
    "    return [head.split('(')[0] for head in getHeads(datalog_query)]"
   ]
  },
  {
   "cell_type": "code",
   "execution_count": 14,
   "metadata": {},
   "outputs": [],
   "source": [
    "def getVariablesInHeads(datalog_query):\n",
    "    heads = getHeads(datalog_query)\n",
    "    query = []\n",
    "    for head in heads:\n",
    "        query += [q.strip() for q in head[head.find(\"(\")+1:head.find(\")\")].split(',')]\n",
    "    return query"
   ]
  },
  {
   "cell_type": "code",
   "execution_count": 15,
   "metadata": {},
   "outputs": [],
   "source": [
    "def getBodies(datalog_query):\n",
    "    clauses = getClauses(datalog_query)\n",
    "    return [clause.split(sep2)[1] for clause in clauses]"
   ]
  },
  {
   "cell_type": "code",
   "execution_count": 224,
   "metadata": {},
   "outputs": [
    {
     "data": {
      "text/plain": [
       "['good_product(Product):-madein(Product,germany)',\n",
       " 'good_product(Product):-madein(Product,belgium)',\n",
       " 'bad_product(Product):-madein(Product,Country), Country!=germany, Country!=belgium, Country!=uk',\n",
       " 'perfect_product(Product):-good_product(Product), not bad_product(belgium), price(Product,Price), Price<5']"
      ]
     },
     "execution_count": 224,
     "metadata": {},
     "output_type": "execute_result"
    }
   ],
   "source": [
    "getClauses(inp)"
   ]
  },
  {
   "cell_type": "code",
   "execution_count": 235,
   "metadata": {},
   "outputs": [],
   "source": [
    "def getHBDict(datalog_query):\n",
    "    result = {}\n",
    "    clauses = getClauses(datalog_query)\n",
    "    i = 1\n",
    "    for clause in clauses:\n",
    "        result[\"Clause\"+str(i)] = clause.split(sep2)[0]+sep2+clause.split(sep2)[1]\n",
    "        i += 1\n",
    "    return result"
   ]
  },
  {
   "cell_type": "code",
   "execution_count": 236,
   "metadata": {},
   "outputs": [],
   "source": [
    "def getTotalPredicates(datalog_query):\n",
    "    result = []\n",
    "    for body in getBodies(datalog_query):\n",
    "        for term in body.split(', '):\n",
    "            result.append(term)\n",
    "    for head in getHeads(datalog_query):\n",
    "        result.append(head)\n",
    "    return result"
   ]
  },
  {
   "cell_type": "code",
   "execution_count": 237,
   "metadata": {},
   "outputs": [],
   "source": [
    "def getLiteralHeadDict(datalog_query):\n",
    "    bH = getHBDict(datalog_query)\n",
    "    result = {}\n",
    "    for key in bH.keys():\n",
    "        if len(key.split(sep3))>1:\n",
    "            for term in key.split(sep3):\n",
    "                result[term] = bH[key]\n",
    "        else:\n",
    "            result[key.split(sep3)[0]] = bH[key]\n",
    "    return result"
   ]
  },
  {
   "cell_type": "code",
   "execution_count": 238,
   "metadata": {},
   "outputs": [],
   "source": [
    "def getVariablesInBodies(datalog_query):\n",
    "    query = []\n",
    "    for body in getHBDict(datalog_query).keys():\n",
    "        for term in body.split(', '):\n",
    "            if term.find(\"(\") != -1:\n",
    "                query += [q.strip() for q in term[term.find(\"(\")+1:term.find(\")\")].split(',')]\n",
    "            else:\n",
    "                for cmp in cmps:\n",
    "                    if term.find(cmp) != -1:\n",
    "                        query.append(term.split(cmp)[0])\n",
    "                        query.append(term.split(cmp)[1])\n",
    "    return query"
   ]
  },
  {
   "cell_type": "code",
   "execution_count": 239,
   "metadata": {},
   "outputs": [],
   "source": [
    "def getVariablesInClauses(datalog_query):\n",
    "    query = []\n",
    "    for body in getHBDict(datalog_query).keys():\n",
    "        for term in body.split(', '):\n",
    "            if term.find(\"(\") != -1:\n",
    "                query += [q.strip() for q in term[term.find(\"(\")+1:term.find(\")\")].split(',')]\n",
    "            else:\n",
    "                for cmp in cmps:\n",
    "                    if term.find(cmp) != -1:\n",
    "                        query.append(term.split(cmp)[0])\n",
    "                        query.append(term.split(cmp)[1])\n",
    "    for body in getHBDict(datalog_query).values():\n",
    "        for term in body.split(', '):\n",
    "            if term.find(\"(\") != -1:\n",
    "                query += [q.strip() for q in term[term.find(\"(\")+1:term.find(\")\")].split(',')]\n",
    "            else:\n",
    "                for cmp in cmps:\n",
    "                    if term.find(cmp) != -1:\n",
    "                        query.append(term.split(cmp)[0])\n",
    "                        query.append(term.split(cmp)[1])\n",
    "    return query"
   ]
  },
  {
   "cell_type": "code",
   "execution_count": 240,
   "metadata": {},
   "outputs": [],
   "source": [
    "def getPVDict(datalog_query):\n",
    "    predConsDict = {}\n",
    "    i = 1\n",
    "    for var in getVariablesInClauses(datalog_query):\n",
    "        for ls in consDict.values():\n",
    "            if var in ls:\n",
    "                if var in predConsDict.keys():\n",
    "                    continue\n",
    "                else:\n",
    "                    predConsDict[var] = 'P'+str(i)\n",
    "                    i = i + 1\n",
    "    return predConsDict"
   ]
  },
  {
   "cell_type": "code",
   "execution_count": 241,
   "metadata": {},
   "outputs": [],
   "source": [
    "inp = datalog_goodProd+datalog_badProd+datalog_perfProd"
   ]
  },
  {
   "cell_type": "code",
   "execution_count": 242,
   "metadata": {},
   "outputs": [
    {
     "data": {
      "text/plain": [
       "'good_product(Product):-madein(Product,germany).good_product(Product):-madein(Product,belgium).bad_product(Product):-madein(Product,Country), Country!=germany, Country!=belgium, Country!=uk.perfect_product(Product):-good_product(Product), not bad_product(belgium), price(Product,Price), Price<5.'"
      ]
     },
     "execution_count": 242,
     "metadata": {},
     "output_type": "execute_result"
    }
   ],
   "source": [
    "inp"
   ]
  },
  {
   "cell_type": "markdown",
   "metadata": {},
   "source": [
    "## Step 1. Replace Constant with variables and add new Predicates"
   ]
  },
  {
   "cell_type": "code",
   "execution_count": 243,
   "metadata": {},
   "outputs": [],
   "source": [
    "pvDict = getPVDict(inp)"
   ]
  },
  {
   "cell_type": "code",
   "execution_count": 244,
   "metadata": {},
   "outputs": [
    {
     "data": {
      "text/plain": [
       "{'5': 'P4', 'belgium': 'P2', 'germany': 'P1', 'uk': 'P3'}"
      ]
     },
     "execution_count": 244,
     "metadata": {},
     "output_type": "execute_result"
    }
   ],
   "source": [
    "pvDict"
   ]
  },
  {
   "cell_type": "code",
   "execution_count": 245,
   "metadata": {},
   "outputs": [],
   "source": [
    "newPredicates = []\n",
    "for key in pvDict.keys():\n",
    "    newPredicates.append(pvDict[key]+'='+'{('+key+')};')"
   ]
  },
  {
   "cell_type": "code",
   "execution_count": 246,
   "metadata": {},
   "outputs": [
    {
     "data": {
      "text/plain": [
       "['P1={(germany)};', 'P2={(belgium)};', 'P3={(uk)};', 'P4={(5)};']"
      ]
     },
     "execution_count": 246,
     "metadata": {},
     "output_type": "execute_result"
    }
   ],
   "source": [
    "newPredicates"
   ]
  },
  {
   "cell_type": "code",
   "execution_count": 247,
   "metadata": {},
   "outputs": [],
   "source": [
    "bH = getHBDict(inp)"
   ]
  },
  {
   "cell_type": "code",
   "execution_count": 248,
   "metadata": {},
   "outputs": [
    {
     "data": {
      "text/plain": [
       "{'Clause1': 'good_product(Product):-madein(Product,germany)',\n",
       " 'Clause2': 'good_product(Product):-madein(Product,belgium)',\n",
       " 'Clause3': 'bad_product(Product):-madein(Product,Country), Country!=germany, Country!=belgium, Country!=uk',\n",
       " 'Clause4': 'perfect_product(Product):-good_product(Product), not bad_product(belgium), price(Product,Price), Price<5'}"
      ]
     },
     "execution_count": 248,
     "metadata": {},
     "output_type": "execute_result"
    }
   ],
   "source": [
    "bH"
   ]
  },
  {
   "cell_type": "code",
   "execution_count": 249,
   "metadata": {},
   "outputs": [
    {
     "data": {
      "text/plain": [
       "{'Country': ['germany', 'belgium', 'uk', 'china', 'usa', 'japan'],\n",
       " 'Price': ['5', '6', '10']}"
      ]
     },
     "execution_count": 249,
     "metadata": {},
     "output_type": "execute_result"
    }
   ],
   "source": [
    "consDict"
   ]
  },
  {
   "cell_type": "code",
   "execution_count": 250,
   "metadata": {},
   "outputs": [],
   "source": [
    "consts = []\n",
    "for key in consDict.keys():\n",
    "    consts+=consDict[key]"
   ]
  },
  {
   "cell_type": "code",
   "execution_count": 252,
   "metadata": {},
   "outputs": [],
   "source": [
    "newDict = {}\n",
    "for key in bH.keys():\n",
    "    i = 1\n",
    "    clause = bH[key]\n",
    "    for const in consts:     \n",
    "        if clause.find(const) != -1:\n",
    "            variable = \"v\" + str(i)\n",
    "            clause = clause.replace(const,variable)\n",
    "            add = \", \" + pvDict[const] + \"(\" + variable + \")\"\n",
    "            temp = clause + add\n",
    "            i = i + 1\n",
    "    newDict[key] = temp "
   ]
  },
  {
   "cell_type": "code",
   "execution_count": 253,
   "metadata": {},
   "outputs": [
    {
     "data": {
      "text/plain": [
       "{'Clause1': 'good_product(Product):-madein(Product,v1), P1(v1)',\n",
       " 'Clause2': 'good_product(Product):-madein(Product,v1), P2(v1)',\n",
       " 'Clause3': 'bad_product(Product):-madein(Product,Country), Country!=v1, Country!=v2, Country!=v3, P3(v3)',\n",
       " 'Clause4': 'perfect_product(Product):-good_product(Product), not bad_product(v1), price(Product,Price), Price<v2, P4(v2)'}"
      ]
     },
     "execution_count": 253,
     "metadata": {},
     "output_type": "execute_result"
    }
   ],
   "source": [
    "newDict"
   ]
  },
  {
   "cell_type": "markdown",
   "metadata": {
    "collapsed": true
   },
   "source": [
    "## Step 2. Replace Equation"
   ]
  },
  {
   "cell_type": "markdown",
   "metadata": {},
   "source": [
    "## Step 3. Combine Multiple-Clause Predicate Definitions"
   ]
  },
  {
   "cell_type": "code",
   "execution_count": 254,
   "metadata": {},
   "outputs": [],
   "source": [
    "newPredStart = len(pvDict)"
   ]
  },
  {
   "cell_type": "code",
   "execution_count": 255,
   "metadata": {},
   "outputs": [],
   "source": [
    "# Find duplicate predicate\n",
    "predCount = {}\n",
    "duplicatePred = []\n",
    "for key in newDict.keys():\n",
    "    a = newDict[key].split(':')[0]\n",
    "    b = a.split('(')[0]\n",
    "    if b in predCount:\n",
    "        duplicatePred.append(b)\n",
    "        predCount[b] += 1\n",
    "    else:\n",
    "        predCount[b] = 1"
   ]
  },
  {
   "cell_type": "code",
   "execution_count": 256,
   "metadata": {},
   "outputs": [
    {
     "data": {
      "text/plain": [
       "{'bad_product': 1, 'good_product': 2, 'perfect_product': 1}"
      ]
     },
     "execution_count": 256,
     "metadata": {},
     "output_type": "execute_result"
    }
   ],
   "source": [
    "predCount"
   ]
  },
  {
   "cell_type": "code",
   "execution_count": 257,
   "metadata": {},
   "outputs": [],
   "source": [
    "i = len(pvDict) + 1\n",
    "newPredicate3 = {}\n",
    "for key in newDict.keys():\n",
    "    a = newDict[key].split(':')[0]\n",
    "    b = a.split('(')[0]\n",
    "    newPredicate3[b] = ''\n",
    "    \n",
    "for key in newDict.keys():\n",
    "    a = newDict[key].split(':')[0]\n",
    "    b = a.split('(')[0]\n",
    "    if predCount[b] > 1:\n",
    "        newDict[key] = newDict[key].replace(b,'P'+str(i))\n",
    "        newPredicate3[b] += 'P'+str(i)+' logicAnd '\n",
    "        i += 1"
   ]
  },
  {
   "cell_type": "code",
   "execution_count": 258,
   "metadata": {},
   "outputs": [
    {
     "data": {
      "text/plain": [
       "{'bad_product': '',\n",
       " 'good_product': 'P5 logicAnd P6 logicAnd ',\n",
       " 'perfect_product': ''}"
      ]
     },
     "execution_count": 258,
     "metadata": {},
     "output_type": "execute_result"
    }
   ],
   "source": [
    "newPredicate3"
   ]
  },
  {
   "cell_type": "code",
   "execution_count": 259,
   "metadata": {},
   "outputs": [],
   "source": [
    "newPredicate3Cleard = {}\n",
    "for key in newPredicate3.keys():\n",
    "    if newPredicate3[key] != '':\n",
    "        newPredicate3Cleard[key] = newPredicate3[key].strip('logicAnd ')"
   ]
  },
  {
   "cell_type": "code",
   "execution_count": 260,
   "metadata": {},
   "outputs": [
    {
     "data": {
      "text/plain": [
       "{'good_product': 'P5 logicAnd P6'}"
      ]
     },
     "execution_count": 260,
     "metadata": {},
     "output_type": "execute_result"
    }
   ],
   "source": [
    "newPredicate3Cleard"
   ]
  },
  {
   "cell_type": "code",
   "execution_count": 261,
   "metadata": {},
   "outputs": [
    {
     "data": {
      "text/plain": [
       "{'Clause1': 'P5(Product):-madein(Product,v1), P1(v1)',\n",
       " 'Clause2': 'P6(Product):-madein(Product,v1), P2(v1)',\n",
       " 'Clause3': 'bad_product(Product):-madein(Product,Country), Country!=v1, Country!=v2, Country!=v3, P3(v3)',\n",
       " 'Clause4': 'perfect_product(Product):-good_product(Product), not bad_product(v1), price(Product,Price), Price<v2, P4(v2)'}"
      ]
     },
     "execution_count": 261,
     "metadata": {},
     "output_type": "execute_result"
    }
   ],
   "source": [
    "newDict"
   ]
  },
  {
   "cell_type": "code",
   "execution_count": 262,
   "metadata": {},
   "outputs": [
    {
     "data": {
      "text/plain": [
       "['P1={(germany)};', 'P2={(belgium)};', 'P3={(uk)};', 'P4={(5)};']"
      ]
     },
     "execution_count": 262,
     "metadata": {},
     "output_type": "execute_result"
    }
   ],
   "source": [
    "newPredicates"
   ]
  },
  {
   "cell_type": "markdown",
   "metadata": {},
   "source": [
    "## Step 4. Rename variables which appears multiple times in a clauses"
   ]
  },
  {
   "cell_type": "markdown",
   "metadata": {},
   "source": [
    "### Get variables for each clause"
   ]
  },
  {
   "cell_type": "code",
   "execution_count": 265,
   "metadata": {},
   "outputs": [
    {
     "name": "stdout",
     "output_type": "stream",
     "text": [
      "['Product']\n",
      "['Product']\n",
      "['Product']\n",
      "['Product']\n"
     ]
    }
   ],
   "source": [
    "# Count variables in head\n",
    "for key in newDict.keys():\n",
    "    head = newDict[key].split(':-')[0]\n",
    "    body = newDict[key].split(':-')[1]\n",
    "    bts = body.split(', ')\n",
    "    bvLoc = {}\n",
    "    hvs = list(set(head[head.find(\"(\")+1:head.find(\")\")].split(',')))\n",
    "    hvDict = {}\n",
    "    i = 1\n",
    "    for hv in hvs:\n",
    "        hvDict[hv] = x + str(i)\n",
    "        i += 1\n",
    "    # replace variables in head\n",
    "    for key in hvDict.keys():\n",
    "        head = head.replace(key, hvDict[key])\n",
    "    \n",
    "    bvs = []\n",
    "    # get variables in body\n",
    "    for bt in bts:\n",
    "        terms = bt[bt.find(\"(\")+1:bt.find(\")\")].split(',')\n",
    "        for term in terms:\n",
    "            bv.append(term)\n",
    "    bvs = list(set(bvs))\n",
    "    \n",
    "    # replace\n",
    "    for key in hvDict.keys():\n",
    "        body.replace(key, hvDict[key])"
   ]
  }
 ],
 "metadata": {
  "anaconda-cloud": {},
  "kernelspec": {
   "display_name": "Python 3",
   "language": "python",
   "name": "python3"
  },
  "language_info": {
   "codemirror_mode": {
    "name": "ipython",
    "version": 3
   },
   "file_extension": ".py",
   "mimetype": "text/x-python",
   "name": "python",
   "nbconvert_exporter": "python",
   "pygments_lexer": "ipython3",
   "version": "3.6.5"
  }
 },
 "nbformat": 4,
 "nbformat_minor": 2
}
