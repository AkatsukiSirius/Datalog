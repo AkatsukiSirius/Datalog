{
 "cells": [
  {
   "cell_type": "markdown",
   "metadata": {},
   "source": [
    "# 1. Relational Algebra"
   ]
  },
  {
   "cell_type": "markdown",
   "metadata": {},
   "source": [
    "### Query(expression) on set of relations produces relation as a result\n",
    "\n",
    "## 1) Select Operator\n",
    "\n",
    "## 2) Project Operator\n",
    "\n",
    "## 3) Cross Product\n",
    "\n",
    "## 4) Natural Join\n",
    "\n",
    "## 5) Theta Join\n",
    "\n",
    "## 6) Set Operator - Union\n",
    "\n",
    "## 7) Set Operator - Difference Operator\n",
    "\n",
    "## 8) Set Operator - Intersection Operator\n",
    "\n",
    "## 9) Rename Operator\n",
    "\n",
    "## 10) Assignment Operator"
   ]
  },
  {
   "cell_type": "markdown",
   "metadata": {},
   "source": [
    "## Example"
   ]
  },
  {
   "cell_type": "markdown",
   "metadata": {},
   "source": [
    "### College( $\\underline{cName}, state, enrollment, enr$)\n",
    "\n",
    "### Student($\\underline{sID}, sName, GPA, sizeHS$)\n",
    "\n",
    "### Apply($\\underline{sID}, \\underline{sName}, \\underline{major}, descision$)"
   ]
  },
  {
   "cell_type": "markdown",
   "metadata": {},
   "source": [
    "## 1.1 Select Operator: pick certian rows $\\rightarrow\\sigma_{cond}(Expr)$"
   ]
  },
  {
   "cell_type": "markdown",
   "metadata": {},
   "source": [
    "## 1) Students with GPA > 3.7"
   ]
  },
  {
   "cell_type": "markdown",
   "metadata": {},
   "source": [
    "### Ans: $\\sigma_{GPA}>3.7$ Student"
   ]
  },
  {
   "cell_type": "markdown",
   "metadata": {},
   "source": [
    "## 2) Students with GPA > 3.7 and HS < 10000"
   ]
  },
  {
   "cell_type": "markdown",
   "metadata": {},
   "source": [
    "### Ans: $\\sigma_{GPA} \\wedge \\sigma_{HS} < 1000$ Student"
   ]
  },
  {
   "cell_type": "markdown",
   "metadata": {},
   "source": [
    "## 3) Applications to Standford CS major"
   ]
  },
  {
   "cell_type": "markdown",
   "metadata": {},
   "source": [
    "### Ans: $\\sigma_{cName} =\\space  'standford' \\wedge major = \\space 'cs'$ Apply"
   ]
  },
  {
   "cell_type": "markdown",
   "metadata": {},
   "source": [
    "## 1.2 Project operator: picks certain columns $\\Pi_{A_{1},...,{A_{n}}}(Expr)$"
   ]
  },
  {
   "cell_type": "markdown",
   "metadata": {},
   "source": [
    "### 1) ID and decision of all applications"
   ]
  },
  {
   "cell_type": "markdown",
   "metadata": {},
   "source": [
    "### Ans: $\\Pi_{sID, dec}$ Apply"
   ]
  },
  {
   "cell_type": "markdown",
   "metadata": {},
   "source": [
    "## 1.3 Pick both rows and cols"
   ]
  },
  {
   "cell_type": "markdown",
   "metadata": {},
   "source": [
    "### 1) ID and name with GPA > 3.7"
   ]
  },
  {
   "cell_type": "markdown",
   "metadata": {},
   "source": [
    "### Ans: $\\Pi_{sID, sName} (\\sigma_{GPA}>3.7 \\space Student)$"
   ]
  },
  {
   "cell_type": "markdown",
   "metadata": {},
   "source": [
    "## 1.4 Duplicates"
   ]
  },
  {
   "cell_type": "markdown",
   "metadata": {},
   "source": [
    "### List of application majors and decisions"
   ]
  },
  {
   "cell_type": "markdown",
   "metadata": {},
   "source": [
    "## $\\Pi_{major, dec}\\space Apply$ \n",
    "\n",
    "### duplicates are always eliminated (ublike  sql)\n",
    "\n",
    "- Sql: based on multisets, bags\n",
    "\n",
    "- R.A: Sets"
   ]
  },
  {
   "cell_type": "markdown",
   "metadata": {},
   "source": [
    "## 1.5 Cross - product: combine two relations(a.k.a. Cartesian product)"
   ]
  },
  {
   "cell_type": "markdown",
   "metadata": {},
   "source": [
    "### Take two relations(tables) and glue them together"
   ]
  },
  {
   "cell_type": "markdown",
   "metadata": {},
   "source": [
    "### $student \\times Apply$"
   ]
  },
  {
   "cell_type": "markdown",
   "metadata": {},
   "source": [
    "### Names and GPAs of students with HS > 1000 who applied to CS and were rejected"
   ]
  },
  {
   "cell_type": "markdown",
   "metadata": {},
   "source": [
    "## $\\Pi_{sName, GPA}(\\sigma_{(Student.sID = Apply.sID)\\wedge (HS > 1000)\\wedge major = 'cs' \\wedge dec = 'R'}(student \\times Apply))$"
   ]
  },
  {
   "cell_type": "markdown",
   "metadata": {},
   "source": [
    "## 1.6 Natural join $\\rightarrow \\bowtie$"
   ]
  },
  {
   "cell_type": "markdown",
   "metadata": {},
   "source": [
    "### $Exp_{1} \\bowtie Exp_{2} \\equiv \\Pi_{schema(E_1)\\cup schema(E_2)}(\\sigma_{E_{1}A_{1} = E_{2}A_{2}\\wedge}...)$"
   ]
  },
  {
   "cell_type": "markdown",
   "metadata": {},
   "source": [
    "### 1) Enforece equality on all attributes with same name\n",
    "\n",
    "### 2) Eliminate one copy of duplicate attribtues"
   ]
  },
  {
   "cell_type": "markdown",
   "metadata": {},
   "source": [
    "### Names and GPAs of students with HS > 1000 who applied to CS and were rejected."
   ]
  },
  {
   "cell_type": "markdown",
   "metadata": {},
   "source": [
    "### $\\Pi_{sName, GPA}(\\sigma_{HS > 1000 \\wedge major = 'cs' \\wedge dec = 'R'\\wedge enr > 20000}(Student \\bowtie\\space Apply \\bowtie\\space College))$"
   ]
  },
  {
   "cell_type": "markdown",
   "metadata": {},
   "source": [
    "## 1.7 Theta Join $\\rightarrow Exp_{1}\\bowtie_{\\theta}Exp_{2}$"
   ]
  },
  {
   "cell_type": "markdown",
   "metadata": {},
   "source": [
    "### $Exp_{1}\\bowtie_{\\theta}Exp_{2}\\equiv \\sigma_{\\theta}(Exp_{1}\\times Exp_{2})$\n",
    "\n",
    "### Basic opeartion implemented in DBMS\n",
    "\n",
    "### Term \"join\" often means theta join"
   ]
  },
  {
   "cell_type": "markdown",
   "metadata": {},
   "source": [
    "## 1.8 Set Operators"
   ]
  },
  {
   "cell_type": "markdown",
   "metadata": {},
   "source": [
    "### 1) Union\n",
    "\n",
    "### Example: List of college and student names"
   ]
  },
  {
   "cell_type": "markdown",
   "metadata": {},
   "source": [
    "## $\\Pi_{cName}\\space College\\cup\\Pi_{sName}\\space Student$"
   ]
  },
  {
   "cell_type": "markdown",
   "metadata": {},
   "source": [
    "### 2) Difference Operator\n",
    "\n",
    "### IDs of students who didn't apply anywhere"
   ]
  },
  {
   "cell_type": "markdown",
   "metadata": {},
   "source": [
    "## $\\Pi_{sName}((\\Pi_{sID}\\space Student - \\Pi_{sID}\\space Apply)\\bowtie\\space Student)$"
   ]
  },
  {
   "cell_type": "markdown",
   "metadata": {},
   "source": [
    "### 3) Intersection Operator\n",
    "\n",
    "### Names that are both a college name and a student name"
   ]
  },
  {
   "cell_type": "markdown",
   "metadata": {},
   "source": [
    "## $\\Pi_{cName}\\space College \\cap \\Pi_{sName}\\space Student$"
   ]
  },
  {
   "cell_type": "markdown",
   "metadata": {},
   "source": [
    "### Intersection doesn't add expressive power\n",
    "\n",
    "## $E_1 \\cap E_2 \\equiv E_1 - (E_1 - E_2)$"
   ]
  },
  {
   "cell_type": "markdown",
   "metadata": {},
   "source": [
    "## $\\underset{\\text{same schema}}{E_1 \\cap E_2} \\equiv E_1 \\bowtie E_2$"
   ]
  },
  {
   "cell_type": "markdown",
   "metadata": {},
   "source": [
    "### 4) Rename Operator\n",
    "\n",
    "## $\\rho_{R(A_1,...,A_n)} (E)\\text{   : reassingn the schema in the result of E}$\n",
    "\n",
    "## $\\rho_{R} (E)$\n",
    "\n",
    "## $\\rho_{A_1,...,A_n} (E)$"
   ]
  },
  {
   "cell_type": "markdown",
   "metadata": {},
   "source": [
    "### Example1: To unify schemas for set operators\n",
    "\n",
    "### List of college and student names"
   ]
  },
  {
   "cell_type": "markdown",
   "metadata": {},
   "source": [
    "## $\\rho_{c(name)}(\\Pi_{cName}\\space College)\\cup\\rho_{c(name)}(\\Pi_{sName}\\space Student)$"
   ]
  },
  {
   "cell_type": "markdown",
   "metadata": {},
   "source": [
    "### Example2: For disambiguation in \"self-join\"\n",
    "\n",
    "### Pairs of colleges in same state"
   ]
  },
  {
   "cell_type": "markdown",
   "metadata": {},
   "source": [
    "## $\\sigma_{s1 = s2 }(\\rho_{c_1(n_1,s_1,e_1)}(College) \\times \\rho_{c_2(n_2,s_2,e_2)} College)$ \n",
    "\n",
    "## $\\sigma_{n_1\\neq n_2}(\\rho_{c_1(n_1,s,e_1)}College) \\bowtie (\\rho_{c_2(n_2,s,e_2)} College)$ \n",
    "\n",
    "### Remove the duplicates, while, there are still problems like, (standford, berkeley), (berkely,standford)\n",
    "\n",
    "# $\\Downarrow$\n",
    "\n",
    "## $\\sigma_{n_1 < n_2}(\\rho_{c_1(n_1,s,e_1)}College) \\bowtie (\\rho_{c_2(n_2,s,e_2)} College)$ "
   ]
  },
  {
   "cell_type": "markdown",
   "metadata": {},
   "source": [
    "### 5) Assignment statements\n",
    "\n",
    "### Break down relational algebra expression into their parts.\n",
    "\n",
    "### Linear Expression - college in same state\n",
    "\n",
    "## $C_1 := \\rho_{c_1, s, e_1} College$\n",
    "\n",
    "## $C_2 := \\rho_{c_2,s,e_2} College$\n",
    "\n",
    "## $CP := C_1 \\bowtie C_2$\n",
    "\n",
    "## $Ans := \\sigma_{n_1<n_2}CP$"
   ]
  },
  {
   "cell_type": "markdown",
   "metadata": {},
   "source": [
    "### Expression tree - GPAs of students applying to CS in CA"
   ]
  },
  {
   "cell_type": "markdown",
   "metadata": {},
   "source": [
    "# 2. Propositional Logic"
   ]
  },
  {
   "cell_type": "markdown",
   "metadata": {},
   "source": [
    "## A Language (framework) with:\n",
    "\n",
    "### Propositions: P, Q, R, ... \n",
    "\n",
    "### logical connectives:\n",
    "\n",
    "- $\\rightarrow$ (implies)，binary operator, if... then\n",
    "\n",
    "- $\\land$ (and)\n",
    "\n",
    "- $\\lor$ (or)\n",
    "\n",
    "- $\\neg$ (not)\n",
    "\n",
    "- $\\leftrightarrow$ (equivalent/equivales)\n",
    "\n",
    "### Constants: t, f"
   ]
  },
  {
   "cell_type": "markdown",
   "metadata": {},
   "source": [
    "### What is the truth table of $\\rightarrow$ ? Of $\\leftrightarrow$ ?\n",
    "\n",
    "### Can derive all logical connectives from one of them and $\\neg$\n",
    "\n",
    "- or all of them just form $\\rightarrow$ and f\n",
    "\n",
    "- how?\n",
    "\n",
    "### Basics: P -> P $\\lor$ Q, P $\\lor$ Q -> P\n",
    "\n",
    "### Most important identity to remember:\n",
    "\n",
    "## $P\\rightarrow Q \\equiv \\neg P \\lor Q$\n",
    "\n",
    "### If false, ... anything\n",
    "\n",
    "### P is stronger than Q\n",
    "\n",
    "### *Example*：if x < 2, then x < 4\n",
    "\n",
    "### 1) For x = 1, t, t, t (f, t, t)\n",
    "\n",
    "### 2) For x = 2, f, t, t (t, t, t)\n",
    "\n",
    "### 3) For x = 4, f, f, f (t, t, t)\n",
    "\n",
    "|P|Q|P -> Q|\n",
    "|:-|:-|:-|\n",
    "|f|f|t|\n",
    "|t|f|f|\n",
    "|f|t|t|\n",
    "|t|t|t|\n",
    "\n",
    "## $P \\leftrightarrow Q \\equiv(P\\lor \\neg Q) \\land (\\neg P \\lor Q)$ \n",
    "\n",
    "|P|Q|P <-> Q|\n",
    "|:-|:-|:-|\n",
    "|f|f|t|\n",
    "|t|f|f|\n",
    "|f|t|f|\n",
    "|t|t|t|\n",
    "\n",
    "## $P \\rightarrow F \\equiv \\neg P$\n",
    "\n",
    "### $\\equiv \\text{is the extra-logical \"equivalent\", but}\\leftrightarrow \\text{also works}$ "
   ]
  },
  {
   "cell_type": "markdown",
   "metadata": {},
   "source": [
    "## $P \\lor Q \\equiv (P\\rightarrow F) \\rightarrow Q$\n",
    "\n",
    "## $P \\land Q \\equiv \\neg(\\neg P \\land \\neg Q)$\n",
    "\n",
    "## $P \\lor (Q \\land R) \\equiv (P\\lor Q)\\land(P\\lor R)$\n",
    "\n",
    "## $P \\land (Q\\lor R) \\equiv (P\\land Q)\\lor(P\\land R)$\n",
    "\n",
    "## $\\neg(P\\land Q) = \\neg P \\lor \\neg Q$\n",
    "\n",
    "## $\\neg(P\\lor Q) = \\neg P \\land \\neg Q$"
   ]
  },
  {
   "cell_type": "markdown",
   "metadata": {},
   "source": [
    "## Generally lots of cool properties\n",
    "\n",
    "## $P \\land Q \\leftrightarrow P \\leftrightarrow Q \\leftrightarrow P\\lor Q$\n",
    "\n",
    "## $(P \\land Q \\leftrightarrow P)\\leftrightarrow(Q \\leftrightarrow P\\lor Q)$\n",
    "\n",
    "### Means, if P is the stronger, then Q is the weaker\n",
    "\n",
    "- $\\land$:indicates the stronger one\n",
    "\n",
    "- $\\lor$: indicates the weaker one\n"
   ]
  },
  {
   "cell_type": "markdown",
   "metadata": {},
   "source": [
    "# 3. First-Order Logic\n",
    "\n",
    "## (aka first-order predicate/functional calculus)"
   ]
  },
  {
   "cell_type": "markdown",
   "metadata": {},
   "source": [
    "## 3.1 Framework\n",
    "\n",
    "### vars: x, y, ...\n",
    "\n",
    "### predicates: P(X,...), Q(x,...), ....\n",
    "\n",
    "### functions: f(X,...), g(X,...)\n",
    "\n",
    "### logical connectives, constants as in propositional\n",
    "\n",
    "### quantifiers: $\\forall \\text{ for all},\\exists \\text{ Exists}$ \n",
    "\n",
    "## Quantifiers introduce variable scopes\n",
    "\n",
    "### Example\n",
    "\n",
    "### $\\forall x,y,z: Path(x,y) \\land Path(y,z) \\rightarrow Path(x,z)$"
   ]
  },
  {
   "cell_type": "markdown",
   "metadata": {},
   "source": [
    "## 3.2 Properties"
   ]
  },
  {
   "cell_type": "markdown",
   "metadata": {},
   "source": [
    "## $1.(\\forall x:F(x))\\rightarrow F(r)$\n",
    "\n",
    "### F any formula, r replaces all occurences of x\n",
    "\n",
    "## $2. F(r) \\rightarrow (\\exists x:F(x))$\n",
    "\n",
    "## $3. \\exists \\text{ associates with } \\exists, \\forall\\text{ with }\\forall, \\text{but neither with each other}$\n",
    "\n",
    "## $\\exists x: \\exists y:\\forall z:\\forall w: F(x,y,z,w)$\n",
    "\n",
    "## $\\Downarrow$\n",
    "\n",
    "## $\\exists y: \\exists x:\\forall w:\\forall z: F(x,y,z,w)$\n",
    "\n",
    "### *Example*\n",
    "\n",
    "## $\\exists y:\\forall x: Parent(y,x) \\Rightarrow \\text{Exist y who is parent of every one}$\n",
    "\n",
    "## $\\forall x:\\exists y: Parent(y,x) \\Rightarrow \\text{ Everyone has a parent}$\n",
    "\n",
    "## $\\text{4.Terms that do not reference the bound variable can move outside quantifier}$\n",
    "\n",
    "### $\\forall$ is a big $\\land$: distributes over it\n",
    "\n",
    "### $\\exists$ is a big $\\lor$: distributes over it"
   ]
  },
  {
   "cell_type": "markdown",
   "metadata": {},
   "source": [
    "### *Example*\n",
    "\n",
    "## $\\forall x: P(x)\\land Q(x) \\equiv (\\forall x:P(x)) \\land (\\forall x: Q(x))$\n",
    "\n",
    "## $\\exists x: P(x)\\lor Q(x) \\equiv (\\exists x:P(x))\\lor (\\exists x:Q(x))$\n",
    "\n",
    "## $\\forall x:P(x)\\lor Q(x) \\leftarrow (\\forall x:P(x))\\lor(\\forall x:Q(x))$\n",
    "\n",
    "### Ans: If RHS is true, LHS is true, if RHS is false, LHS must be false "
   ]
  },
  {
   "cell_type": "markdown",
   "metadata": {},
   "source": [
    "## $5. \\neg(\\forall x:P(x))\\leftrightarrow(\\exists x: \\neg P(x))$\n",
    "\n",
    "## $6. \\neg(\\exists x:P(x))\\leftrightarrow(\\forall x: \\neg P(x)) \\Leftrightarrow \\neg(\\exists x:\\neg P(x))\\leftrightarrow(\\forall x: P(x))$\n",
    "\n",
    "### Explain: for all x, take neg to P(x) means not exists positive P(x) \n",
    "\n",
    "### $\\Leftrightarrow$ for all x, take pos to P(x) means not exists negative P(x)"
   ]
  },
  {
   "cell_type": "markdown",
   "metadata": {},
   "source": [
    "## $7. \\text{What happens with}\\rightarrow ?$\n",
    "\n",
    "### $1)\\space (\\forall x: P(x) \\rightarrow Q(x)) \\rightarrow ((\\forall x:P(x))\\rightarrow(\\forall x:Q(x))$\n",
    "\n",
    "- RHS, even if there exists one x make P(x) false, 2nd one is still true (truth table of implication)\n",
    "\n",
    "- For all given x at any given point, if P(x) implies Q(x), then, for all x, p(x) will imply all Q(x) \n",
    "\n",
    "### $\\space A \\rightarrow (B \\rightarrow C) \\Leftrightarrow (A\\land B) \\rightarrow C$\n",
    "\n",
    "### $\\Rightarrow \\forall x: P(x) \\rightarrow (\\exists x: P(x))$"
   ]
  },
  {
   "cell_type": "markdown",
   "metadata": {},
   "source": [
    "### $2) \\space(\\exists x: P(x) \\rightarrow Q(x)) \\leftarrow \\underline{((\\exists x:P(x))\\rightarrow(\\exists x:Q(x))}$\n",
    "\n",
    "- If there exists a x for P(x), it implies, there exists a x for Q(x) and this whole imply there is a x, which lete P(x) imply Q(x)"
   ]
  },
  {
   "cell_type": "markdown",
   "metadata": {},
   "source": [
    "## $8. \\text{ How about}$\n",
    "\n",
    "## $1)\\space \\forall x: P(x)\\rightarrow Q(x) \\leftarrow ((\\exists x: P(x)) \\rightarrow (\\forall x: Q(x)))$\n",
    "\n",
    "## $2)\\space \\exists x: P(x)\\rightarrow Q(x) \\equiv \\underline{((\\forall x: P(x)) \\rightarrow (\\exists x: Q(x)))}$"
   ]
  },
  {
   "cell_type": "markdown",
   "metadata": {},
   "source": [
    "### Explain 1: \n",
    "\n",
    "### $\\forall x:P(x) \\rightarrow Q(x) \\equiv \\forall x: \\neg P(x)\\lor Q(x) \\leftarrow (\\forall x: \\neg P(x) \\lor (\\forall x:Q(x)) \\equiv$"
   ]
  },
  {
   "cell_type": "markdown",
   "metadata": {},
   "source": [
    "### $\\text{to make RHS a implicatation, } \\neg(\\exists x: P(x)) \\lor (\\forall x: Q(x))\\equiv  (\\exists x: P(x)) \\rightarrow (\\forall x: Q(x))$\n",
    "\n",
    "### $\\Rightarrow \\forall x: P(x)\\rightarrow Q(x) \\leftarrow ((\\exists x: P(x)) \\rightarrow (\\forall x: Q(x)))$"
   ]
  },
  {
   "cell_type": "markdown",
   "metadata": {},
   "source": [
    "### Explain 2: \n",
    "\n",
    "### $\\exists x:P(x) \\rightarrow Q(x) \\equiv \\exists x: \\neg P(x)\\lor Q(x) \\equiv \\neg(\\forall x: P(x) \\lor (\\exists x:Q(x)) \\equiv ((\\forall x: P(x) \\rightarrow (\\exists x: Q(x)))$"
   ]
  },
  {
   "cell_type": "markdown",
   "metadata": {},
   "source": [
    "### Prove the underline parts, then we can get 7.2"
   ]
  },
  {
   "cell_type": "markdown",
   "metadata": {},
   "source": [
    "### Proof:\n",
    "\n",
    "### $1st,(\\exists x:P(x))\\rightarrow Blah$\n",
    "\n",
    "### $2nd, (\\forall x:P(x))\\rightarrow Blah$\n",
    "\n",
    "- Since, the RHS are same, which is $\\exists x: Q(x)$"
   ]
  },
  {
   "cell_type": "markdown",
   "metadata": {},
   "source": [
    "# 4. Datalog and First-Order Logic"
   ]
  },
  {
   "cell_type": "markdown",
   "metadata": {},
   "source": [
    "### Developed for application which uses a large number of facts stored in a relation database"
   ]
  },
  {
   "cell_type": "markdown",
   "metadata": {},
   "source": [
    "## Relationship of Datalog to f.o. logic:"
   ]
  },
  {
   "cell_type": "markdown",
   "metadata": {},
   "source": [
    "##  $P(x,y)\\leftarrow Q(x,z),R(z,y)$\n",
    "\n",
    "## $\\Downarrow$\n",
    "\n",
    "## $\\forall x,y,z: Q(x,z)\\land R(z,y)\\leftarrow P(x,y)$\n",
    "\n",
    "### but also, if this is the only rule deriving P,\n",
    "\n",
    "## $\\forall x,y: \\exists z: P(x,y) \\rightarrow Q(x,y)\\land R(z,y)$"
   ]
  },
  {
   "cell_type": "markdown",
   "metadata": {},
   "source": [
    "## What if there are other rules deriving P?"
   ]
  },
  {
   "cell_type": "markdown",
   "metadata": {},
   "source": [
    "## $P(x,y)\\leftarrow W(x,z),S(w,y,z)$ "
   ]
  },
  {
   "cell_type": "markdown",
   "metadata": {},
   "source": [
    "## $\\forall x,y: \\exists z: (P(x,y) \\rightarrow Q(x,y)\\land R(z,y))\\lor(W(x,z)\\land S(x,y,z))$"
   ]
  },
  {
   "cell_type": "markdown",
   "metadata": {},
   "source": [
    "## 4.1 Horn Clauses"
   ]
  },
  {
   "cell_type": "markdown",
   "metadata": {},
   "source": [
    "### $\\underset{\\large head}{L_0} : \\underset{\\large body}{- L_1, ... , -L_n}$\n",
    "\n",
    "- ### $L_i$: Literal form of $p_i(t_1,...,t_{ki})$\n",
    "\n",
    "- ### $p_i$: a predicate symbol (describe logic)\n",
    "\n",
    "- ### $t_j$: term, a variable or constant"
   ]
  },
  {
   "cell_type": "markdown",
   "metadata": {},
   "source": [
    "## 4.2  Fact & Rule\n",
    "\n",
    "### Fact: father(bob, john) -> John is the father of Bob\n",
    "\n",
    "### Rule: *grandpar*(Z,X): -*par*(X, Y), *par*(Z,Y) $\\rightarrow$  if *X* is a parent of *Y* and if *Y* is a parent of *Z*, then X is a grandparent of *Z*\n",
    "\n",
    "- ### bob, jonh: constant\n",
    "\n",
    "- ### X, Y and Z: variables\n",
    "\n",
    "- ### par, grandpar: predicate symbols"
   ]
  },
  {
   "cell_type": "markdown",
   "metadata": {},
   "source": [
    "## 4.3 Same arity, ground"
   ]
  },
  {
   "cell_type": "markdown",
   "metadata": {},
   "source": [
    "- ### Same arity: Literal with same predicate symbol\n",
    "\n",
    "- ### ground: A literal, fact, rule, or clause which doesn't contain any variables\n",
    "\n",
    "    - Each fact is a ground\n",
    "    \n",
    "    - Each variable which occurs in the head of a rule of *P* must also occur in the body of the same rule."
   ]
  },
  {
   "cell_type": "markdown",
   "metadata": {},
   "source": [
    "## 4.4 Datalog and Relational Databases"
   ]
  },
  {
   "cell_type": "markdown",
   "metadata": {},
   "source": [
    "### Mapping from EDB -> IDB"
   ]
  },
  {
   "cell_type": "markdown",
   "metadata": {},
   "source": [
    "### 1. Extensional Database(EDB): a set of ground facts (predicate with only constant)\n",
    "\n",
    "### 2. Intensional Database(IDB): Datalog program P (all facts, rules relvant to a particular application is contained within a singel logic program P)\n",
    "\n",
    "### 3. Predicates are divided into two disjoint sets:\n",
    "\n",
    "### 1) EDB-predicates: predicates occur in EDB, may occur in P but only in clause bodies\n",
    "\n",
    "- ### Each EDB-preidcate r corresponds to one relation R, $r(c_1,...c_k)\\underset{\\text{saved as} }{\\rightarrow}<c_1,...c_n>$ \n",
    "\n",
    "### 2) IDB-predicates: predicates occur in P not in EDB, Head predicates of each clause in P;\n",
    "\n",
    "- ### IDB - relatiosn/derived relations: identify the IDB-predicates of P, defined through P and EDB.\n",
    "\n",
    "### 4. Relational Database: saves ground facts"
   ]
  },
  {
   "cell_type": "markdown",
   "metadata": {},
   "source": []
  },
  {
   "cell_type": "markdown",
   "metadata": {},
   "source": [
    "# 5. Deductive Database"
   ]
  },
  {
   "cell_type": "markdown",
   "metadata": {},
   "source": [
    "## Consist of a set of first-order formulas\n",
    "\n",
    "### Convention 1: the set $Con_s$ of the constants is nonempty\n",
    "\n",
    "### Convention 2: predicates set is divided in 3 disjoint set, extensional predicates, intensional predicates, built-in predicates"
   ]
  },
  {
   "cell_type": "markdown",
   "metadata": {},
   "source": [
    "## Deductive Database extend relational database\n",
    "\n",
    "### Recursive Queries\n",
    "\n",
    "### Can handle more complex data than just sets of tuples"
   ]
  },
  {
   "cell_type": "markdown",
   "metadata": {},
   "source": [
    "## Deductive Database V.S. Logic Program"
   ]
  },
  {
   "cell_type": "markdown",
   "metadata": {},
   "source": [
    "### Ability to manage persistent data"
   ]
  },
  {
   "cell_type": "markdown",
   "metadata": {},
   "source": [
    "### Ability to access large amounts of data efficiently"
   ]
  },
  {
   "cell_type": "markdown",
   "metadata": {},
   "source": [
    "# 6. Model theory and fixpoints"
   ]
  },
  {
   "cell_type": "markdown",
   "metadata": {},
   "source": [
    "## Two ways of defining semantics of deductive database:\n",
    "\n",
    "### 1) A first-order theory(the proof-theoretic approach)\n",
    "\n",
    "### 2) A model of a first-order theory (the model-theoretic approach, more flexible)\n",
    "\n",
    "## The model theory of deductive databases is based on\n",
    "\n",
    "### 1) The unique name assumption\n",
    "\n",
    "### 2) The domain closure assumption\n",
    "\n",
    "### 3) The closed world assumption\n",
    "\n",
    "## The Proof Theory of deductive databases express these three assumptions by logical formulars\n",
    "\n",
    "### 1) The unique name axioms\n",
    "\n",
    "### 2) The domain closure axiom\n",
    "\n",
    "### 3) Completion of the database"
   ]
  },
  {
   "cell_type": "markdown",
   "metadata": {},
   "source": [
    "## A. Unique name assumption\n",
    "\n",
    "### Each name defines a unique object\n",
    "\n",
    "### Implies that every preferred interpretaion of a first-order language wiht function symbols is infinite\n",
    "\n",
    "### Finite number of axioms"
   ]
  },
  {
   "cell_type": "markdown",
   "metadata": {},
   "source": [
    "## B. Domian closure assumption\n",
    "\n",
    "### Every object of the intended interpretation has a name\n",
    "\n",
    "- Example: *officer(0)*, who is an office? or list of all officers?"
   ]
  },
  {
   "cell_type": "markdown",
   "metadata": {},
   "source": [
    "## C. Closed world assumption\n",
    "\n",
    "### Deals with the negative inforamtion"
   ]
  },
  {
   "cell_type": "markdown",
   "metadata": {},
   "source": [
    "## 6.1 Model Theory of Deductive Database\n",
    "\n",
    "### Purpose: to fix the domain and the interpretation of all constants and function symbols."
   ]
  },
  {
   "cell_type": "markdown",
   "metadata": {},
   "source": [
    "### 1) Herbarand interpretation:  \n",
    "\n",
    "A Herbrand interpretation $M$ of a language $L$ is any interpretation of $L$ such that\n",
    "\n",
    "- the domian of $m$ is the set of all ground terms of $L$\n",
    "\n",
    "- for every constant c of $L$ we have $c_m = c$\n",
    "\n",
    "- for all function symbols *f* of *L* and ground terms $t_1,...,t_2$ of $L$ we have $f_m(t_1,...,t_n) = f(t_1,...,t_n)$"
   ]
  },
  {
   "cell_type": "markdown",
   "metadata": {},
   "source": [
    "### The choice of Herbrand interpretations is the main object of study in the semantics of deductive database, due to:\n",
    "\n",
    "### a. unique name assumption\n",
    "\n",
    "- Different ground terms must be interpreted as different elements of $M$\n",
    "\n",
    "### b. domain closure assumption\n",
    "\n",
    "- Every element of $M$ must have a name in the language $L$"
   ]
  },
  {
   "cell_type": "markdown",
   "metadata": {},
   "source": [
    "### For any interpretation $M$ satisfying both assumptions, the domain $M$ can be identified with the set of ground terms of $L$"
   ]
  },
  {
   "cell_type": "markdown",
   "metadata": {},
   "source": [
    "### Proposition 1: No general formulas set $\\Phi$ that axiomatizes Herbrand Interpretations"
   ]
  },
  {
   "cell_type": "markdown",
   "metadata": {},
   "source": [
    "### Def 1. $\\beta - interpretation$ *B*\n",
    "\n",
    "A $\\beta - interpretation$ *B* for language *L* is any Herbrand interpretation of the language obtatined from *L* removing all predicate symbols $P\\notin Pred^{\\beta}_{L}$"
   ]
  },
  {
   "cell_type": "markdown",
   "metadata": {},
   "source": [
    "### Def 2. An interpretation *M* of *L* is called a Herbrand interpretation based on *B*, if *M* is a Herbrand interpretation of *L* and for every built-in predicate *P* we have $P_{B} = P_{M}$"
   ]
  },
  {
   "cell_type": "markdown",
   "metadata": {},
   "source": [
    "### $\\Rightarrow$ Fix the interpretation of built-in predicates, by fixing some $\\beta-interpretation$\n",
    "\n",
    "### Properties of Fixed $\\beta-interpretation$:\n",
    "\n",
    "### 1) Define a fixed domain, fixed interpretation to equality =\n",
    "\n",
    "### 2) Define fixed interpretation to all function symbols\n",
    "\n",
    "### 3) Define fixed interpretation to built-in predicate symbols"
   ]
  },
  {
   "cell_type": "markdown",
   "metadata": {},
   "source": [
    " ### $L^{-}$:  Language obtained from $L$ by removing all built-in predicate symbols"
   ]
  },
  {
   "cell_type": "markdown",
   "metadata": {},
   "source": [
    "### Def 3. Herbrand base\n",
    "\n",
    "### Propostion 2: Condition for two interpretation $N$ and $M$ to equal?"
   ]
  },
  {
   "cell_type": "markdown",
   "metadata": {},
   "source": [
    "## 6.2 Minimal Herbrand Models"
   ]
  },
  {
   "cell_type": "markdown",
   "metadata": {},
   "source": [
    "### Greatest Herbrand Model"
   ]
  },
  {
   "cell_type": "markdown",
   "metadata": {},
   "source": [
    "### Minimal Herbrand Model"
   ]
  },
  {
   "cell_type": "markdown",
   "metadata": {},
   "source": [
    "### Least Herbrand Model"
   ]
  },
  {
   "cell_type": "markdown",
   "metadata": {},
   "source": [
    "### Def 1. $D*$, set of ground clauses. D is a set of clauses. D's is a set of ground instances of clauses in D.\n",
    "\n",
    "### 1) Remove  false predefined literals\n",
    "\n",
    "### 2) Delete from remaining clauses all true predefined literals"
   ]
  },
  {
   "cell_type": "code",
   "execution_count": null,
   "metadata": {
    "collapsed": true
   },
   "outputs": [],
   "source": []
  },
  {
   "cell_type": "code",
   "execution_count": null,
   "metadata": {
    "collapsed": true
   },
   "outputs": [],
   "source": []
  },
  {
   "cell_type": "code",
   "execution_count": null,
   "metadata": {
    "collapsed": true
   },
   "outputs": [],
   "source": []
  },
  {
   "cell_type": "markdown",
   "metadata": {},
   "source": [
    "# 6. From Relational Algebra to datalog"
   ]
  },
  {
   "cell_type": "code",
   "execution_count": null,
   "metadata": {
    "collapsed": true
   },
   "outputs": [],
   "source": []
  }
 ],
 "metadata": {
  "anaconda-cloud": {},
  "kernelspec": {
   "display_name": "Python [default]",
   "language": "python",
   "name": "python3"
  },
  "language_info": {
   "codemirror_mode": {
    "name": "ipython",
    "version": 3
   },
   "file_extension": ".py",
   "mimetype": "text/x-python",
   "name": "python",
   "nbconvert_exporter": "python",
   "pygments_lexer": "ipython3",
   "version": "3.5.2"
  }
 },
 "nbformat": 4,
 "nbformat_minor": 2
}
