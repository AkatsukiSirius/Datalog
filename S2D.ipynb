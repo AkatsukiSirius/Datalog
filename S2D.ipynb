{
 "cells": [
  {
   "cell_type": "code",
   "execution_count": 1,
   "metadata": {},
   "outputs": [],
   "source": [
    "import re"
   ]
  },
  {
   "cell_type": "code",
   "execution_count": 2,
   "metadata": {},
   "outputs": [],
   "source": [
    "def getSelectFromWhereQuery(sqlQuery):\n",
    "    '''\n",
    "    type string: sqlQuery\n",
    "    rtype string: sqlQueryFiltered\n",
    "    '''\n",
    "    sqlQueryFiltered = sqlQuery[sqlQuery.find('(')+1:sqlQuery.find(')')]\n",
    "    return sqlQueryFiltered"
   ]
  },
  {
   "cell_type": "code",
   "execution_count": 3,
   "metadata": {},
   "outputs": [],
   "source": [
    "def getSelectClause(sqlQuery):\n",
    "    '''\n",
    "    type string: sqlQuery\n",
    "    rtype string: sqlSelect\n",
    "    '''\n",
    "    sqlQueryFiltered = getSelectFromWhereQuery(sqlQuery)\n",
    "    sqlSelect = sqlQueryFiltered[sqlQueryFiltered.find('Select')+6:sqlQueryFiltered.find('From') - 1].strip(' ')\n",
    "    return sqlSelect"
   ]
  },
  {
   "cell_type": "code",
   "execution_count": 4,
   "metadata": {},
   "outputs": [],
   "source": [
    "def getFromClause(sqlQuery):\n",
    "    '''\n",
    "    type string: sqlQuery\n",
    "    rtype string: sqlFrom\n",
    "    '''\n",
    "    sqlQueryFiltered = getSelectFromWhereQuery(sqlQuery)\n",
    "    sqlFrom = sqlQueryFiltered[sqlQueryFiltered.find('From')+5:sqlQueryFiltered.find('Where') - 1].strip(' ')\n",
    "    return sqlFrom"
   ]
  },
  {
   "cell_type": "code",
   "execution_count": 5,
   "metadata": {},
   "outputs": [],
   "source": [
    "def getWhereClause(sqlQuery):\n",
    "    '''\n",
    "    type string: sqlQuery\n",
    "    rtype string: sqlWhere\n",
    "    '''\n",
    "    sqlQueryFiltered = getSelectFromWhereQuery(sqlQuery)\n",
    "    sqlWhere = sqlQueryFiltered[sqlQueryFiltered.find('Where')+5:].strip(' ')\n",
    "    return sqlWhere"
   ]
  },
  {
   "cell_type": "code",
   "execution_count": 6,
   "metadata": {},
   "outputs": [],
   "source": [
    "def getHeadTerms(sqlQuery):\n",
    "    '''\n",
    "    Descritption: extract head terms from select clauses\n",
    "    type string: sqlSelect\n",
    "    rtype string: headTerms\n",
    "    '''\n",
    "    results = []\n",
    "    headTerms = \"(\"\n",
    "    sqlSelect = getSelectClause(sqlQuery)\n",
    "    for term in sqlSelect.split(','):\n",
    "        results.append(term.split('.')[1])\n",
    "    for result in results:\n",
    "        headTerms += result + ','\n",
    "    headTerms = headTerms.strip(',')\n",
    "    headTerms += \")\"\n",
    "    return headTerms"
   ]
  },
  {
   "cell_type": "code",
   "execution_count": 7,
   "metadata": {},
   "outputs": [],
   "source": [
    "def getHead(sqlQuery):\n",
    "    '''\n",
    "    type string: sqlQuery\n",
    "    rtype string: head\n",
    "    '''\n",
    "    headRule = sqlQuery[sqlQuery.find('Create View')+ 11:sqlQuery.find('as')].strip(' ')\n",
    "    head = headRule + getHeadTerms(sqlQuery)\n",
    "    return head"
   ]
  },
  {
   "cell_type": "code",
   "execution_count": 8,
   "metadata": {},
   "outputs": [],
   "source": [
    "def getFacts(sqlFrom):\n",
    "    '''\n",
    "    type string: sqlFrom\n",
    "    rtype list[string]\n",
    "    '''\n",
    "    return sqlFrom.split(', ')"
   ]
  },
  {
   "cell_type": "code",
   "execution_count": 9,
   "metadata": {},
   "outputs": [],
   "source": [
    "def getTableSchema(inputSchemas):\n",
    "    schemaDict = {}\n",
    "    for schema in inputSchemas:\n",
    "        schemaDict[schema.split(\"(\")[0]] =  schema\n",
    "    return schemaDict"
   ]
  },
  {
   "cell_type": "code",
   "execution_count": 10,
   "metadata": {},
   "outputs": [],
   "source": [
    "def extractTermFromPred(fact, n):\n",
    "    results = schemaDict[fact][schemaDict['fact2'].find(\"(\")+1:schemaDict['fact2'].find(\")\")].split(',')\n",
    "    return results[n]"
   ]
  },
  {
   "cell_type": "code",
   "execution_count": 11,
   "metadata": {},
   "outputs": [],
   "source": [
    "def str2list(t_str):\n",
    "    a_list = []\n",
    "    for c in str(t_str):\n",
    "        a_list.append(c)\n",
    "    return a_list"
   ]
  },
  {
   "cell_type": "code",
   "execution_count": 12,
   "metadata": {},
   "outputs": [],
   "source": [
    "def list2str(a_list):\n",
    "    return ', '.join(list(map(str, a_list)))"
   ]
  },
  {
   "cell_type": "code",
   "execution_count": 13,
   "metadata": {},
   "outputs": [],
   "source": [
    "def sub(string,position,currentValue):\n",
    "    new = []\n",
    "    for s in string:\n",
    "        new.append(s)\n",
    "    new[position] = currentValue\n",
    "    return ''.join(new)"
   ]
  },
  {
   "cell_type": "code",
   "execution_count": 54,
   "metadata": {},
   "outputs": [],
   "source": [
    "def getBody(inputSchemas, sqlQuery):\n",
    "    split_logic = \" and | or \"\n",
    "    split_comp = \">|<|>=|<=\"\n",
    "    schemaDict = getTableSchema(inputSchemas)\n",
    "    sqlWhere = getWhereClause(sqlQuery)\n",
    "    body = []\n",
    "    for whereCondition in re.split(split_logic, sqlWhere): # or\n",
    "        if whereCondition.find(\"=\") != -1 and len(re.findall(split_comp,whereCondition)) == 0:\n",
    "            # Find join part\n",
    "            condLHS = whereCondition.split(\"=\")[0]\n",
    "            condRHS = whereCondition.split(\"=\")[1]\n",
    "            if condLHS.find(\".\") != -1 and condRHS.find(\".\") != -1:\n",
    "                tabl = condLHS.split('.')[0]\n",
    "                if schemaDict[tabl] not in body:\n",
    "                    body.append(schemaDict[tabl]) \n",
    "                tab2 = condRHS.split('.')[0]\n",
    "                if schemaDict[tab2] not in body:\n",
    "                    body.append(schemaDict[tab2])\n",
    "            # Find '=' condition\n",
    "            elif condLHS.find(\".\") > -1 and condRHS.find(\".\") == -1:\n",
    "                tab = condLHS.split('.')[0]\n",
    "                col = condLHS.split('.')[1]\n",
    "                body.append(col + \"=\" + re.split(\"=\", condRHS)[0])\n",
    "        elif len(re.findall(split_comp,whereCondition)) > 0:\n",
    "            condLHS = re.split(split_comp,whereCondition)[0]\n",
    "            condRHS = re.split(split_comp,whereCondition)[1]\n",
    "            if condLHS.find(\".\") > -1 and condRHS.find(\".\") > -1:\n",
    "                term0 = condLHS.split('.')[1]\n",
    "                term1 = condRHS.split('.')[1]\n",
    "                temp = whereCondition.replace(condLHS, term0)\n",
    "                temp = temp.replace(condRHS, term1)\n",
    "                body.append(temp)\n",
    "            elif condLHS.find(\".\") > -1 and condRHS.find(\".\") == -1:\n",
    "                term0 = condLHS.split('.')[1]\n",
    "                temp = whereCondition.replace(condLHS, term0)\n",
    "                body.append(temp)\n",
    "    body = sorted(body)\n",
    "    bodyLiterals = list2str(body)\n",
    "    return bodyLiterals"
   ]
  },
  {
   "cell_type": "code",
   "execution_count": 55,
   "metadata": {},
   "outputs": [],
   "source": [
    "sqlQuery= \"Create View r1 as(Select fact1.a, fact3.b From fact1, fact2, fact3 Where fact2.a=fact1.a and fact2.y=fact3.y and fact2.a>=fact3.y)\""
   ]
  },
  {
   "cell_type": "code",
   "execution_count": 56,
   "metadata": {},
   "outputs": [
    {
     "data": {
      "text/plain": [
       "'Create View r1 as(Select fact1.a, fact3.b From fact1, fact2, fact3 Where fact2.a=fact1.a and fact2.y=fact3.y and fact2.a>=fact3.y)'"
      ]
     },
     "execution_count": 56,
     "metadata": {},
     "output_type": "execute_result"
    }
   ],
   "source": [
    "sqlQuery"
   ]
  },
  {
   "cell_type": "code",
   "execution_count": 60,
   "metadata": {},
   "outputs": [],
   "source": [
    "inputSchemas = ['fact1(x,a)', 'fact2(a,y)', 'fact3(y,b)']"
   ]
  },
  {
   "cell_type": "code",
   "execution_count": 61,
   "metadata": {},
   "outputs": [],
   "source": [
    "factList =['fact1(2,1)','fact1(2,3)','fact1(2,4)','fact2(20,10)','fact2(20,30)','fact2(20,40)', 'fact3(22,21)','fact3(22,23)','fact3(22,24)']"
   ]
  },
  {
   "cell_type": "code",
   "execution_count": 63,
   "metadata": {},
   "outputs": [],
   "source": [
    "body = getBody(inputSchemas, sqlQuery)"
   ]
  },
  {
   "cell_type": "code",
   "execution_count": 64,
   "metadata": {},
   "outputs": [
    {
     "data": {
      "text/plain": [
       "'a>y, fact1(x,a), fact2(a,y), fact3(y,b)'"
      ]
     },
     "execution_count": 64,
     "metadata": {},
     "output_type": "execute_result"
    }
   ],
   "source": [
    "body "
   ]
  },
  {
   "cell_type": "code",
   "execution_count": 65,
   "metadata": {},
   "outputs": [],
   "source": [
    "head = getHead(sqlQuery)"
   ]
  },
  {
   "cell_type": "code",
   "execution_count": 66,
   "metadata": {},
   "outputs": [
    {
     "data": {
      "text/plain": [
       "'r1(a,b)'"
      ]
     },
     "execution_count": 66,
     "metadata": {},
     "output_type": "execute_result"
    }
   ],
   "source": [
    "head"
   ]
  },
  {
   "cell_type": "code",
   "execution_count": 67,
   "metadata": {},
   "outputs": [
    {
     "data": {
      "text/plain": [
       "'r1(a,b):-a>y, fact1(x,a), fact2(a,y), fact3(y,b).'"
      ]
     },
     "execution_count": 67,
     "metadata": {},
     "output_type": "execute_result"
    }
   ],
   "source": [
    "head +':-' + body + '.'"
   ]
  },
  {
   "cell_type": "code",
   "execution_count": null,
   "metadata": {},
   "outputs": [],
   "source": []
  },
  {
   "cell_type": "code",
   "execution_count": null,
   "metadata": {},
   "outputs": [],
   "source": []
  }
 ],
 "metadata": {
  "kernelspec": {
   "display_name": "Python 3",
   "language": "python",
   "name": "python3"
  },
  "language_info": {
   "codemirror_mode": {
    "name": "ipython",
    "version": 3
   },
   "file_extension": ".py",
   "mimetype": "text/x-python",
   "name": "python",
   "nbconvert_exporter": "python",
   "pygments_lexer": "ipython3",
   "version": "3.6.5"
  }
 },
 "nbformat": 4,
 "nbformat_minor": 2
}
