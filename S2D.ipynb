{
 "cells": [
  {
   "cell_type": "code",
   "execution_count": 66,
   "metadata": {},
   "outputs": [],
   "source": [
    "sqlQuery= \"Create View r1 as(Select fact1.a, fact3.b From fact1, fact2, fact3 Where fact2.a=fact1.a and fact2.y=fact3.y )\""
   ]
  },
  {
   "cell_type": "code",
   "execution_count": 67,
   "metadata": {},
   "outputs": [
    {
     "data": {
      "text/plain": [
       "'Create View r1 as(Select fact1.a, fact3.b From fact1, fact2, fact3 Where fact2.a=fact1.a and fact2.y=fact3.y )'"
      ]
     },
     "execution_count": 67,
     "metadata": {},
     "output_type": "execute_result"
    }
   ],
   "source": [
    "sqlQuery"
   ]
  },
  {
   "cell_type": "code",
   "execution_count": 121,
   "metadata": {},
   "outputs": [],
   "source": [
    "def getHeadTerms(sqlSelect):\n",
    "    '''\n",
    "    Descritption: extract head terms from select clauses\n",
    "    type string: sqlSelect\n",
    "    rtype string: headTerms\n",
    "    '''\n",
    "    results = []\n",
    "    headTerms = \"(\"\n",
    "    sqlSelect = getSelectClause(sqlQuery)\n",
    "    for term in sqlSelect.split(','):\n",
    "        results.append(term.split('.')[1])\n",
    "    for result in results:\n",
    "        headTerms += result + ','\n",
    "    headTerms = headTerms.strip(',')\n",
    "    headTerms += \")\"\n",
    "    return headTerms"
   ]
  },
  {
   "cell_type": "code",
   "execution_count": 122,
   "metadata": {},
   "outputs": [],
   "source": [
    "def getHead(sqlQuery):\n",
    "    '''\n",
    "    type string: sqlQuery\n",
    "    rtype string: head\n",
    "    '''\n",
    "    sqlSelect = getSelectClause(sqlQuery)\n",
    "    headRule = sqlQuery[sqlQuery.find('Create View')+ 11:sqlQuery.find('as')].strip(' ')\n",
    "    head = headRule + getHeadTerms(sqlSelect)\n",
    "    return head"
   ]
  },
  {
   "cell_type": "code",
   "execution_count": 123,
   "metadata": {},
   "outputs": [],
   "source": [
    "head = getHead(sqlQuery)"
   ]
  },
  {
   "cell_type": "code",
   "execution_count": 124,
   "metadata": {},
   "outputs": [
    {
     "data": {
      "text/plain": [
       "'r1(a,b)'"
      ]
     },
     "execution_count": 124,
     "metadata": {},
     "output_type": "execute_result"
    }
   ],
   "source": [
    "head"
   ]
  },
  {
   "cell_type": "code",
   "execution_count": 125,
   "metadata": {},
   "outputs": [],
   "source": [
    "def getSelectFromWhereQuery(sqlQuery):\n",
    "    '''\n",
    "    type string: sqlQuery\n",
    "    rtype string: sqlQueryFiltered\n",
    "    '''\n",
    "    sqlQueryFiltered = sqlQuery[sqlQuery.find('(')+1:sqlQuery.find(')')]\n",
    "    return sqlQueryFiltered"
   ]
  },
  {
   "cell_type": "code",
   "execution_count": 126,
   "metadata": {},
   "outputs": [],
   "source": [
    "sqlQueryFiltered = getSelectFromWhereQuery(sqlQuery)"
   ]
  },
  {
   "cell_type": "code",
   "execution_count": 127,
   "metadata": {},
   "outputs": [
    {
     "data": {
      "text/plain": [
       "'Select fact1.a, fact3.b From fact1, fact2, fact3 Where fact2.a=fact1.a and fact2.y=fact3.y '"
      ]
     },
     "execution_count": 127,
     "metadata": {},
     "output_type": "execute_result"
    }
   ],
   "source": [
    "sqlQueryFiltered"
   ]
  },
  {
   "cell_type": "code",
   "execution_count": 128,
   "metadata": {},
   "outputs": [],
   "source": [
    "def getSelectClause(sqlQuery):\n",
    "    '''\n",
    "    type string: sqlQuery\n",
    "    rtype string: sqlSelect\n",
    "    '''\n",
    "    sqlQueryFiltered = getSelectFromWhereQuery(sqlQuery)\n",
    "    sqlSelect = sqlQueryFiltered[sqlQueryFiltered.find('Select')+6:sqlQueryFiltered.find('From') - 1].strip(' ')\n",
    "    return sqlSelect"
   ]
  },
  {
   "cell_type": "code",
   "execution_count": 129,
   "metadata": {},
   "outputs": [],
   "source": [
    "sqlSelect = getSelectClause(sqlQueryFiltered)"
   ]
  },
  {
   "cell_type": "code",
   "execution_count": 130,
   "metadata": {},
   "outputs": [
    {
     "data": {
      "text/plain": [
       "'fact1.a, fact3.b'"
      ]
     },
     "execution_count": 130,
     "metadata": {},
     "output_type": "execute_result"
    }
   ],
   "source": [
    "sqlSelect"
   ]
  },
  {
   "cell_type": "code",
   "execution_count": 131,
   "metadata": {},
   "outputs": [],
   "source": [
    "def getFromClause(sqlQuery):\n",
    "    '''\n",
    "    type string: sqlQuery\n",
    "    rtype string: sqlFrom\n",
    "    '''\n",
    "    sqlQueryFiltered = getSelectFromWhereQuery(sqlQuery)\n",
    "    sqlFrom = sqlQueryFiltered[sqlQueryFiltered.find('From')+5:sqlQueryFiltered.find('Where') - 1].strip(' ')\n",
    "    return sqlFrom"
   ]
  },
  {
   "cell_type": "code",
   "execution_count": 132,
   "metadata": {},
   "outputs": [],
   "source": [
    "sqlFrom = getFromClause(sqlQuery)"
   ]
  },
  {
   "cell_type": "code",
   "execution_count": 133,
   "metadata": {},
   "outputs": [
    {
     "data": {
      "text/plain": [
       "'fact1, fact2, fact3'"
      ]
     },
     "execution_count": 133,
     "metadata": {},
     "output_type": "execute_result"
    }
   ],
   "source": [
    "sqlFrom"
   ]
  },
  {
   "cell_type": "code",
   "execution_count": 134,
   "metadata": {},
   "outputs": [
    {
     "data": {
      "text/plain": [
       "['fact1', 'fact2', 'fact3']"
      ]
     },
     "execution_count": 134,
     "metadata": {},
     "output_type": "execute_result"
    }
   ],
   "source": [
    "sqlFrom.split(', ')"
   ]
  },
  {
   "cell_type": "code",
   "execution_count": 135,
   "metadata": {},
   "outputs": [],
   "source": [
    "def getFacts(sqlFrom):\n",
    "    '''\n",
    "    type string: sqlFrom\n",
    "    rtype list[string]\n",
    "    '''\n",
    "    return sqlFrom.split(', ')"
   ]
  },
  {
   "cell_type": "code",
   "execution_count": 136,
   "metadata": {},
   "outputs": [],
   "source": [
    "def getWhereClause(sqlQuery):\n",
    "    '''\n",
    "    type string: sqlQuery\n",
    "    rtype string: sqlWhere\n",
    "    '''\n",
    "    sqlQueryFiltered = getSelectFromWhereQuery(sqlQuery)\n",
    "    sqlWhere = sqlQueryFiltered[sqlQueryFiltered.find('Where')+5:].strip(' ')\n",
    "    return sqlWhere"
   ]
  },
  {
   "cell_type": "code",
   "execution_count": 137,
   "metadata": {},
   "outputs": [],
   "source": [
    "sqlWhere = getWhereClause(sqlQuery)"
   ]
  },
  {
   "cell_type": "code",
   "execution_count": 138,
   "metadata": {},
   "outputs": [
    {
     "data": {
      "text/plain": [
       "'fact2.a=fact1.a and fact2.y=fact3.y'"
      ]
     },
     "execution_count": 138,
     "metadata": {},
     "output_type": "execute_result"
    }
   ],
   "source": [
    "sqlWhere"
   ]
  },
  {
   "cell_type": "code",
   "execution_count": 139,
   "metadata": {},
   "outputs": [
    {
     "data": {
      "text/plain": [
       "['fact2.a=fact1.a', 'fact2.y=fact3.y']"
      ]
     },
     "execution_count": 139,
     "metadata": {},
     "output_type": "execute_result"
    }
   ],
   "source": [
    "sqlWhere.split(' and ')"
   ]
  },
  {
   "cell_type": "code",
   "execution_count": 140,
   "metadata": {},
   "outputs": [],
   "source": [
    "inputSchemas = ['fact1(x,a)', 'fact2(a,y)', 'fact3(y,b)']"
   ]
  },
  {
   "cell_type": "code",
   "execution_count": 141,
   "metadata": {},
   "outputs": [],
   "source": [
    "factList =['fact1(2,1)','fact1(2,3)','fact1(2,4)','fact2(20,10)','fact2(20,30)','fact2(20,40)', 'fact3(22,21)','fact3(22,23)','fact3(22,24)']"
   ]
  },
  {
   "cell_type": "code",
   "execution_count": null,
   "metadata": {},
   "outputs": [],
   "source": [
    "for whereCondition in sqlWhere:\n",
    "    i = 0\n",
    "    for schema in inputSchemas:\n",
    "        if whereCondition.find(schema) != -1:\n",
    "            i += 1\n",
    "    if i >= 2:\n",
    "        col1 = whereCondition.split('=')[0]\n",
    "        col2 = whereCondition.split('=')[1]"
   ]
  }
 ],
 "metadata": {
  "kernelspec": {
   "display_name": "Python 3",
   "language": "python",
   "name": "python3"
  },
  "language_info": {
   "codemirror_mode": {
    "name": "ipython",
    "version": 3
   },
   "file_extension": ".py",
   "mimetype": "text/x-python",
   "name": "python",
   "nbconvert_exporter": "python",
   "pygments_lexer": "ipython3",
   "version": "3.6.5"
  }
 },
 "nbformat": 4,
 "nbformat_minor": 2
}
